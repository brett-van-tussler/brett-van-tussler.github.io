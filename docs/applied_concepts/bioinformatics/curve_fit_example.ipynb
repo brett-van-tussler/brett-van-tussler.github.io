{
 "cells": [
  {
   "cell_type": "code",
   "execution_count": null,
   "metadata": {},
   "outputs": [],
   "source": [
    "import numpy as np\n",
    "from scipy.optimize import curve_fit\n",
    "import matplotlib.pyplot as plt\n",
    "\n",
    "# 4PL model function\n",
    "def hill_equation(x, bottom, top, ec50, hill_slope):\n",
    "    return bottom + (top - bottom) / (1 + (x / ec50)**hill_slope)\n",
    "\n",
    "# Example data (log scale optional)\n",
    "concentrations = np.array([1e-9, 1e-8, 1e-7, 1e-6, 1e-5])\n",
    "responses = np.array([100, 90, 60, 20, 5])  # % viability or similar\n",
    "\n",
    "# Fit the curve\n",
    "popt, _ = curve_fit(hill_equation, concentrations, responses, \n",
    "                    bounds=([0, 50, 1e-10, 0.1], [10, 120, 1e-4, 10]))\n",
    "\n",
    "bottom, top, ec50, hill_slope = popt\n",
    "print(f\"Hill slope: {hill_slope:.2f}\")\n",
    "\n",
    "# Plot\n",
    "x_fit = np.logspace(-9, -5, 100)\n",
    "y_fit = hill_equation(x_fit, *popt)\n",
    "plt.semilogx(concentrations, responses, 'o', label='Data')\n",
    "plt.semilogx(x_fit, y_fit, '-', label='Fit')\n",
    "plt.xlabel(\"Concentration (M)\")\n",
    "plt.ylabel(\"Response\")\n",
    "plt.title(f\"Hill Slope: {hill_slope:.2f}\")\n",
    "plt.legend()\n",
    "plt.show()"
   ]
  }
 ],
 "metadata": {
  "language_info": {
   "name": "python"
  }
 },
 "nbformat": 4,
 "nbformat_minor": 2
}
