{
 "cells": [
  {
   "cell_type": "markdown",
   "metadata": {},
   "source": [
    "# QIIME 2 Kraken2 Classification Analysis\n",
    "\n",
    "This notebook demonstrates how to use the q2-annotate plugin's `classify_kraken2` action to taxonomically classify metagenomic reads. The notebook will cover:\n",
    "\n",
    "1. Setting up the QIIME 2 environment\n",
    "2. Downloading sample data and the Kraken2 database\n",
    "3. Importing the sequence data into QIIME 2 artifacts\n",
    "4. Running the Kraken2 classification\n",
    "5. Analyzing and visualizing the results\n",
    "\n",
    "## Prerequisites\n",
    "\n",
    "- QIIME 2 (version 2023.9 or later)\n",
    "- q2-annotate plugin\n",
    "- Sufficient storage space for Kraken2 databases (~10-50GB depending on the database)"
   ]
  },
  {
   "cell_type": "markdown",
   "metadata": {},
   "source": [
    "## 1. Environment Setup\n",
    "\n",
    "First, we'll ensure that QIIME 2 and the q2-annotate plugin are properly installed and activated. If you haven't installed these yet, follow the [official QIIME 2 installation guide](https://docs.qiime2.org/2023.9/install/) and then install the q2-annotate plugin."
   ]
  },
  {
   "cell_type": "code",
   "execution_count": 1,
   "metadata": {},
   "outputs": [
    {
     "name": "stdout",
     "output_type": "stream",
     "text": [
      "zsh:1: command not found: qiime\n"
     ]
    }
   ],
   "source": [
    "# Check that QIIME 2 is installed and accessible\n",
    "!qiime --version"
   ]
  },
  {
   "cell_type": "code",
   "execution_count": null,
   "metadata": {},
   "outputs": [],
   "source": [
    "# Verify that q2-annotate plugin is installed\n",
    "!qiime annotate --help"
   ]
  },
  {
   "cell_type": "code",
   "execution_count": null,
   "metadata": {},
   "outputs": [
    {
     "ename": "SyntaxError",
     "evalue": "invalid syntax (1374844307.py, line 2)",
     "output_type": "error",
     "traceback": [
      "\u001b[0;36m  Cell \u001b[0;32mIn[3], line 2\u001b[0;36m\u001b[0m\n\u001b[0;31m    python -m ipykernel install --user --name qiime2_annotate --display-name\u001b[0m\n\u001b[0m              ^\u001b[0m\n\u001b[0;31mSyntaxError\u001b[0m\u001b[0;31m:\u001b[0m invalid syntax\n"
     ]
    }
   ],
   "source": [
    "!conda install -c conda-forge -c bioconda -c qiime2 -c defaults q2-annotate\n",
    "!conda activate qiime2_annotate\n",
    "!python -m ipykernel install --user --name qiime2_annotate --display-name"
   ]
  },
  {
   "cell_type": "markdown",
   "metadata": {},
   "source": [
    "If you don't have q2-annotate installed, you can install it using conda or pip:\n",
    "\n",
    "```bash\n",
    "# Using conda (if you're using the QIIME 2 conda environment)\n",
    "conda install -c conda-forge -c bioconda -c qiime2 -c defaults q2-annotate\n",
    "\n",
    "# Or using pip\n",
    "pip install q2-annotate\n",
    "```\n",
    "\n",
    "Make sure to restart your kernel after installation."
   ]
  },
  {
   "cell_type": "markdown",
   "metadata": {},
   "source": [
    "## 2. Download Sample Data and Kraken2 Database\n",
    "\n",
    "### 2.1 Download Sample Reads\n",
    "\n",
    "For this demo, we'll download some sample metagenomic reads. These are paired-end reads from a microbial community sample."
   ]
  },
  {
   "cell_type": "code",
   "execution_count": null,
   "metadata": {},
   "outputs": [],
   "source": [
    "# Create a directory for our data\n",
    "!mkdir -p sample_data"
   ]
  },
  {
   "cell_type": "code",
   "execution_count": null,
   "metadata": {},
   "outputs": [],
   "source": [
    "# Download sample data - using a small metagenomic dataset from the Human Microbiome Project\n",
    "# NOTE: This is a small sample for demonstration purposes\n",
    "!wget -O sample_data/SRS015890.fastq.gz https://downloads.hmpdacc.org/dacc/hmp/demo_data/demo_data_files/otu_table_analysis/SRS015890.fastq.gz"
   ]
  },
  {
   "cell_type": "markdown",
   "metadata": {},
   "source": [
    "### 2.2 Download Kraken2 Database\n",
    "\n",
    "Kraken2 requires a reference database for taxonomic classification. There are several pre-built databases available, varying in size and scope. We'll download the MiniKraken2 database, which is a smaller, pre-built database that's suitable for demonstrations.\n",
    "\n",
    "> **Note**: The full Kraken2 databases can be very large (10-100+ GB). For this demonstration, we're using the MiniKraken2 database which is much smaller (~4-5 GB) but still useful."
   ]
  },
  {
   "cell_type": "code",
   "execution_count": null,
   "metadata": {},
   "outputs": [],
   "source": [
    "# Create a directory for the Kraken2 database\n",
    "!mkdir -p kraken2_db"
   ]
  },
  {
   "cell_type": "code",
   "execution_count": null,
   "metadata": {},
   "outputs": [],
   "source": [
    "# Download the MiniKraken2 database (smaller version for demo purposes)\n",
    "!wget -O minikraken2.tgz https://genome-idx.s3.amazonaws.com/kraken/minikraken2_v2_8GB_201904.tgz"
   ]
  },
  {
   "cell_type": "code",
   "execution_count": null,
   "metadata": {},
   "outputs": [],
   "source": [
    "# Extract the database\n",
    "!tar -xzf minikraken2.tgz -C kraken2_db --strip-components=1"
   ]
  },
  {
   "cell_type": "markdown",
   "metadata": {},
   "source": [
    "Alternative Kraken2 databases:\n",
    "\n",
    "- Standard Kraken2 database: Contains RefSeq complete bacterial, archaeal, and viral genomes (~30GB)\n",
    "  ```\n",
    "  wget https://genome-idx.s3.amazonaws.com/kraken/k2_standard_20230605.tar.gz\n",
    "  ```\n",
    "\n",
    "- PlusPF database: Contains RefSeq complete bacterial, archaeal, and viral genomes + protozoa & fungi (~40GB)\n",
    "  ```\n",
    "  wget https://genome-idx.s3.amazonaws.com/kraken/k2_pluspf_20230605.tar.gz\n",
    "  ```\n",
    "\n",
    "- PlusPFP database: Contains PlusPF + UniRef90 proteins (~100GB)\n",
    "  ```\n",
    "  wget https://genome-idx.s3.amazonaws.com/kraken/k2_pluspfp_20230605.tar.gz\n",
    "  ```\n",
    "\n",
    "Choose the appropriate database based on your specific needs and available storage/memory. For production analyses, using one of the larger databases is recommended for better classification accuracy."
   ]
  },
  {
   "cell_type": "markdown",
   "metadata": {},
   "source": [
    "## 3. Import Sequence Data into QIIME 2\n",
    "\n",
    "Now, we'll import the downloaded sequence data into QIIME 2 artifacts. For Kraken2 classification, we need to import the data as `SampleData[Sequences]` or `SampleData[PairedEndSequences]`."
   ]
  },
  {
   "cell_type": "code",
   "execution_count": null,
   "metadata": {},
   "outputs": [],
   "source": [
    "# Create a manifest file for importing (for a single sample)\n",
    "with open('sample_manifest.tsv', 'w') as f:\n",
    "    f.write('sample-id\\tfile-path\\n')\n",
    "    f.write('SRS015890\\t$PWD/sample_data/SRS015890.fastq.gz\\n')"
   ]
  },
  {
   "cell_type": "code",
   "execution_count": null,
   "metadata": {},
   "outputs": [],
   "source": [
    "# Import the data as SampleData[Sequences]\n",
    "!qiime tools import \\\n",
    "  --type 'SampleData[Sequences]' \\\n",
    "  --input-path sample_manifest.tsv \\\n",
    "  --output-path demux-single-end.qza \\\n",
    "  --input-format SingleEndFastqManifestPhred33V2"
   ]
  },
  {
   "cell_type": "markdown",
   "metadata": {},
   "source": [
    "### Optional: Visualize the imported sequences"
   ]
  },
  {
   "cell_type": "code",
   "execution_count": null,
   "metadata": {},
   "outputs": [],
   "source": [
    "!qiime demux summarize \\\n",
    "  --i-data demux-single-end.qza \\\n",
    "  --o-visualization demux-single-end.qzv"
   ]
  },
  {
   "cell_type": "code",
   "execution_count": null,
   "metadata": {},
   "outputs": [],
   "source": [
    "# Display the visualization (if you're running this in Jupyter)\n",
    "from qiime2 import Visualization\n",
    "Visualization.load('demux-single-end.qzv')"
   ]
  },
  {
   "cell_type": "markdown",
   "metadata": {},
   "source": [
    "## 4. Run Kraken2 Classification using q2-annotate\n",
    "\n",
    "Now we'll use the `classify_kraken2` action from the q2-annotate plugin to taxonomically classify our sequences."
   ]
  },
  {
   "cell_type": "markdown",
   "metadata": {},
   "source": [
    "Let's check the available parameters for the `classify_kraken2` action:"
   ]
  },
  {
   "cell_type": "code",
   "execution_count": null,
   "metadata": {},
   "outputs": [],
   "source": [
    "!qiime annotate classify-kraken2 --help"
   ]
  },
  {
   "cell_type": "code",
   "execution_count": null,
   "metadata": {},
   "outputs": [],
   "source": [
    "# Run Kraken2 classification\n",
    "!qiime annotate classify-kraken2 \\\n",
    "  --i-sequences demux-single-end.qza \\\n",
    "  --p-database-dir kraken2_db \\\n",
    "  --p-confidence 0.5 \\\n",
    "  --p-num-threads 4 \\\n",
    "  --o-classification kraken2-classification.qza \\\n",
    "  --o-classification-report kraken2-report.qza"
   ]
  },
  {
   "cell_type": "markdown",
   "metadata": {},
   "source": [
    "### Key Parameters Explained:\n",
    "\n",
    "- `--i-sequences`: The QIIME 2 artifact containing the sequences to classify\n",
    "- `--p-database-dir`: Path to the Kraken2 database directory\n",
    "- `--p-confidence`: Confidence threshold for classification (0-1, higher values are more specific but classify fewer reads)\n",
    "- `--p-num-threads`: Number of threads to use for the classification\n",
    "- `--o-classification`: Output artifact for the classification results\n",
    "- `--o-classification-report`: Output artifact for the Kraken2 report"
   ]
  },
  {
   "cell_type": "markdown",
   "metadata": {},
   "source": [
    "## 5. Analyze and Visualize the Results\n",
    "\n",
    "Now that we have the classification results, we can analyze and visualize them."
   ]
  },
  {
   "cell_type": "code",
   "execution_count": null,
   "metadata": {},
   "outputs": [],
   "source": [
    "# Create a visualization of the Kraken2 report\n",
    "!qiime metadata tabulate \\\n",
    "  --m-input-file kraken2-report.qza \\\n",
    "  --o-visualization kraken2-report.qzv"
   ]
  },
  {
   "cell_type": "code",
   "execution_count": null,
   "metadata": {},
   "outputs": [],
   "source": [
    "# View the report\n",
    "from qiime2 import Visualization\n",
    "Visualization.load('kraken2-report.qzv')"
   ]
  },
  {
   "cell_type": "markdown",
   "metadata": {},
   "source": [
    "### Convert Kraken2 reports to taxonomic bar plots\n",
    "\n",
    "We can convert the Kraken2 reports to a QIIME 2 feature table and taxonomy, which can then be used to create taxonomic bar plots."
   ]
  },
  {
   "cell_type": "code",
   "execution_count": null,
   "metadata": {},
   "outputs": [],
   "source": [
    "# Convert Kraken2 report to feature table and taxonomy\n",
    "!qiime annotate kraken2-to-features \\\n",
    "  --i-report kraken2-report.qza \\\n",
    "  --o-feature-table kraken2-feature-table.qza \\\n",
    "  --o-taxonomy kraken2-taxonomy.qza"
   ]
  },
  {
   "cell_type": "code",
   "execution_count": null,
   "metadata": {},
   "outputs": [],
   "source": [
    "# Create taxonomic bar plots\n",
    "!qiime taxa barplot \\\n",
    "  --i-table kraken2-feature-table.qza \\\n",
    "  --i-taxonomy kraken2-taxonomy.qza \\\n",
    "  --o-visualization kraken2-taxa-bar-plots.qzv"
   ]
  },
  {
   "cell_type": "code",
   "execution_count": null,
   "metadata": {},
   "outputs": [],
   "source": [
    "# View the taxonomic bar plots\n",
    "Visualization.load('kraken2-taxa-bar-plots.qzv')"
   ]
  },
  {
   "cell_type": "markdown",
   "metadata": {},
   "source": [
    "## Additional Analysis: Export Results for Further Processing\n",
    "\n",
    "You can export the QIIME 2 artifacts to work with the data outside of QIIME 2."
   ]
  },
  {
   "cell_type": "code",
   "execution_count": null,
   "metadata": {},
   "outputs": [],
   "source": [
    "# Export the feature table\n",
    "!qiime tools export \\\n",
    "  --input-path kraken2-feature-table.qza \\\n",
    "  --output-path exported-feature-table"
   ]
  },
  {
   "cell_type": "code",
   "execution_count": null,
   "metadata": {},
   "outputs": [],
   "source": [
    "# Export the taxonomy\n",
    "!qiime tools export \\\n",
    "  --input-path kraken2-taxonomy.qza \\\n",
    "  --output-path exported-taxonomy"
   ]
  },
  {
   "cell_type": "code",
   "execution_count": null,
   "metadata": {},
   "outputs": [],
   "source": [
    "# View the exported files\n",
    "!ls -la exported-feature-table\n",
    "!ls -la exported-taxonomy"
   ]
  },
  {
   "cell_type": "markdown",
   "metadata": {},
   "source": [
    "## Summary\n",
    "\n",
    "In this notebook, we have:\n",
    "1. Set up the QIIME 2 environment with the q2-annotate plugin\n",
    "2. Downloaded sample sequencing data and a Kraken2 database\n",
    "3. Imported the sequence data into QIIME 2\n",
    "4. Run the `classify_kraken2` action to taxonomically classify our sequences\n",
    "5. Analyzed and visualized the classification results\n",
    "6. Exported the results for further processing\n",
    "\n",
    "## Next Steps\n",
    "\n",
    "To improve your analysis, consider:\n",
    "- Using a larger and more comprehensive Kraken2 database\n",
    "- Adjusting the confidence threshold based on your specific needs\n",
    "- Combining this analysis with other QIIME 2 plugins for more comprehensive metagenomic analysis\n",
    "- Comparing results with other taxonomic classifiers like q2-feature-classifier with BLAST or sklearn"
   ]
  }
 ],
 "metadata": {
  "kernelspec": {
   "display_name": "base",
   "language": "python",
   "name": "python3"
  },
  "language_info": {
   "codemirror_mode": {
    "name": "ipython",
    "version": 3
   },
   "file_extension": ".py",
   "mimetype": "text/x-python",
   "name": "python",
   "nbconvert_exporter": "python",
   "pygments_lexer": "ipython3",
   "version": "3.12.8"
  }
 },
 "nbformat": 4,
 "nbformat_minor": 4
}
