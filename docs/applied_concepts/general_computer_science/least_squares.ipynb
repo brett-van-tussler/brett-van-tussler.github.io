{
 "cells": [
  {
   "cell_type": "code",
   "execution_count": 3,
   "metadata": {},
   "outputs": [
    {
     "name": "stdout",
     "output_type": "stream",
     "text": [
      "Weights: [1. 1. 1.]\n",
      "Reconstructed: [1. 3. 5. 2. 4. 6.]\n"
     ]
    }
   ],
   "source": [
    "import numpy as np\n",
    "from scipy.sparse import csr_matrix\n",
    "from scipy.sparse.linalg import lsqr\n",
    "\n",
    "# Define 3 sparse vectors (dim = 6)\n",
    "v1 = csr_matrix([1, 0, 0, 2, 0, 0])\n",
    "v2 = csr_matrix([0, 3, 0, 0, 4, 0])\n",
    "v3 = csr_matrix([0, 0, 5, 0, 0, 6])\n",
    "\n",
    "# Stack them as columns in a sparse matrix V (shape = 6 x 3)\n",
    "V = csr_matrix(np.vstack([v1.toarray(), v2.toarray(), v3.toarray()])).T\n",
    "\n",
    "# Define target vector (e.g., a sparse combo of v1, v2, v3)\n",
    "target_vector = np.array([1, 3, 5, 2, 4, 6])  # This is 1*v1 + 1*v2 + 1*v3\n",
    "\n",
    "# Solve least squares: find weights w such that V @ w ≈ target_vector\n",
    "# Use sparse solver (LSQR is good for large sparse problems)\n",
    "result = lsqr(V, target_vector)\n",
    "weights = result[0]\n",
    "\n",
    "print(\"Weights:\", weights)\n",
    "print(\"Reconstructed:\", V @ weights)"
   ]
  }
 ],
 "metadata": {
  "kernelspec": {
   "display_name": "base",
   "language": "python",
   "name": "python3"
  },
  "language_info": {
   "codemirror_mode": {
    "name": "ipython",
    "version": 3
   },
   "file_extension": ".py",
   "mimetype": "text/x-python",
   "name": "python",
   "nbconvert_exporter": "python",
   "pygments_lexer": "ipython3",
   "version": "3.12.8"
  }
 },
 "nbformat": 4,
 "nbformat_minor": 2
}
