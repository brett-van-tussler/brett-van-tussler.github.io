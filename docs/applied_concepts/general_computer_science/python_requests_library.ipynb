{
 "cells": [
  {
   "cell_type": "markdown",
   "metadata": {},
   "source": [
    "# Python Requests Library Tutorial\n",
    "\n",
    "This comprehensive tutorial covers the Python `requests` library, one of the most popular libraries for making HTTP requests in Python. You'll learn everything from basic GET requests to advanced features like authentication, sessions, and concurrent requests.\n",
    "\n",
    "## Table of Contents\n",
    "\n",
    "1. [Installation and Basic Setup](#Installation-and-Basic-Setup)\n",
    "2. [Basic HTTP Methods](#Basic-HTTP-Methods)\n",
    "3. [Working with Headers](#Working-with-Headers)\n",
    "4. [Authentication](#Authentication)\n",
    "5. [Sessions and Cookies](#Sessions-and-Cookies)\n",
    "6. [Error Handling](#Error-Handling)\n",
    "7. [Working with JSON](#Working-with-JSON)\n",
    "8. [File Operations](#File-Operations)\n",
    "9. [Advanced Features](#Advanced-Features)\n",
    "10. [Practice Questions](#Practice-Questions)\n",
    "\n",
    "---"
   ]
  },
  {
   "cell_type": "markdown",
   "metadata": {},
   "source": [
    "## Installation and Basic Setup\n",
    "\n",
    "First, let's install the requests library and import it:"
   ]
  },
  {
   "cell_type": "code",
   "execution_count": 1,
   "metadata": {},
   "outputs": [
    {
     "name": "stdout",
     "output_type": "stream",
     "text": [
      "Requests version: 2.32.4\n"
     ]
    }
   ],
   "source": [
    "# Install requests (run this in terminal or uncomment the line below)\n",
    "# !pip install requests\n",
    "\n",
    "import requests\n",
    "import json\n",
    "from pprint import pprint\n",
    "\n",
    "print(f\"Requests version: {requests.__version__}\")"
   ]
  },
  {
   "cell_type": "markdown",
   "metadata": {},
   "source": [
    "## Basic HTTP Methods\n",
    "\n",
    "The requests library supports all major HTTP methods. Let's start with the most common ones:"
   ]
  },
  {
   "cell_type": "markdown",
   "metadata": {},
   "source": [
    "### GET Requests\n",
    "\n",
    "GET requests are used to retrieve data from a server:"
   ]
  },
  {
   "cell_type": "code",
   "execution_count": 2,
   "metadata": {},
   "outputs": [
    {
     "name": "stdout",
     "output_type": "stream",
     "text": [
      "Status Code: 200\n",
      "Content Type: application/json\n",
      "Response Text (first 200 chars): {\n",
      "  \"args\": {}, \n",
      "  \"headers\": {\n",
      "    \"Accept\": \"*/*\", \n",
      "    \"Accept-Encoding\": \"gzip, deflate, br, zstd\", \n",
      "    \"Host\": \"httpbin.org\", \n",
      "    \"User-Agent\": \"python-requests/2.32.4\", \n",
      "    \"X-Amzn-Trace-Id\":...\n"
     ]
    }
   ],
   "source": [
    "# Basic GET request\n",
    "response = requests.get('https://httpbin.org/get')\n",
    "\n",
    "print(f\"Status Code: {response.status_code}\")\n",
    "print(f\"Content Type: {response.headers['content-type']}\")\n",
    "print(f\"Response Text (first 200 chars): {response.text[:200]}...\")"
   ]
  },
  {
   "cell_type": "code",
   "execution_count": null,
   "metadata": {},
   "outputs": [],
   "source": [
    "# GET request with query parameters\n",
    "params = {\n",
    "    'name': 'John Doe',\n",
    "    'age': 30,\n",
    "    'city': 'New York'\n",
    "}\n",
    "\n",
    "response = requests.get('https://httpbin.org/get', params=params)\n",
    "data = response.json()\n",
    "\n",
    "print(\"Query parameters sent:\")\n",
    "pprint(data['args'])"
   ]
  },
  {
   "cell_type": "markdown",
   "metadata": {},
   "source": [
    "### POST Requests\n",
    "\n",
    "POST requests are used to send data to a server:"
   ]
  },
  {
   "cell_type": "code",
   "execution_count": null,
   "metadata": {},
   "outputs": [],
   "source": [
    "# POST request with form data\n",
    "form_data = {\n",
    "    'username': 'johndoe',\n",
    "    'password': 'secretpassword',\n",
    "    'email': 'john@example.com'\n",
    "}\n",
    "\n",
    "response = requests.post('https://httpbin.org/post', data=form_data)\n",
    "result = response.json()\n",
    "\n",
    "print(\"Form data sent:\")\n",
    "pprint(result['form'])"
   ]
  },
  {
   "cell_type": "code",
   "execution_count": null,
   "metadata": {},
   "outputs": [],
   "source": [
    "# POST request with JSON data\n",
    "json_data = {\n",
    "    'user': {\n",
    "        'name': 'Jane Smith',\n",
    "        'email': 'jane@example.com',\n",
    "        'preferences': {\n",
    "            'theme': 'dark',\n",
    "            'notifications': True\n",
    "        }\n",
    "    }\n",
    "}\n",
    "\n",
    "response = requests.post('https://httpbin.org/post', json=json_data)\n",
    "result = response.json()\n",
    "\n",
    "print(\"JSON data sent:\")\n",
    "pprint(result['json'])"
   ]
  },
  {
   "cell_type": "markdown",
   "metadata": {},
   "source": [
    "### Other HTTP Methods\n",
    "\n",
    "The requests library supports all HTTP methods:"
   ]
  },
  {
   "cell_type": "code",
   "execution_count": null,
   "metadata": {},
   "outputs": [],
   "source": [
    "# PUT request (update resource)\n",
    "put_data = {'name': 'Updated Name', 'status': 'active'}\n",
    "put_response = requests.put('https://httpbin.org/put', json=put_data)\n",
    "print(f\"PUT Status: {put_response.status_code}\")\n",
    "\n",
    "# DELETE request\n",
    "delete_response = requests.delete('https://httpbin.org/delete')\n",
    "print(f\"DELETE Status: {delete_response.status_code}\")\n",
    "\n",
    "# PATCH request (partial update)\n",
    "patch_data = {'status': 'inactive'}\n",
    "patch_response = requests.patch('https://httpbin.org/patch', json=patch_data)\n",
    "print(f\"PATCH Status: {patch_response.status_code}\")"
   ]
  },
  {
   "cell_type": "markdown",
   "metadata": {},
   "source": [
    "## Working with Headers\n",
    "\n",
    "Headers provide metadata about the request and response:"
   ]
  },
  {
   "cell_type": "code",
   "execution_count": null,
   "metadata": {},
   "outputs": [],
   "source": [
    "# Custom headers\n",
    "headers = {\n",
    "    'User-Agent': 'My Python App 1.0',\n",
    "    'Accept': 'application/json',\n",
    "    'Content-Type': 'application/json',\n",
    "    'X-Custom-Header': 'CustomValue'\n",
    "}\n",
    "\n",
    "response = requests.get('https://httpbin.org/headers', headers=headers)\n",
    "result = response.json()\n",
    "\n",
    "print(\"Headers sent:\")\n",
    "pprint(result['headers'])"
   ]
  },
  {
   "cell_type": "code",
   "execution_count": null,
   "metadata": {},
   "outputs": [],
   "source": [
    "# Examining response headers\n",
    "response = requests.get('https://httpbin.org/get')\n",
    "\n",
    "print(\"Response Headers:\")\n",
    "for header, value in response.headers.items():\n",
    "    print(f\"{header}: {value}\")"
   ]
  },
  {
   "cell_type": "markdown",
   "metadata": {},
   "source": [
    "## Authentication\n",
    "\n",
    "The requests library supports various authentication methods:"
   ]
  },
  {
   "cell_type": "markdown",
   "metadata": {},
   "source": [
    "### Basic Authentication\n",
    "\n",
    "HTTP Basic Authentication sends credentials in the Authorization header:"
   ]
  },
  {
   "cell_type": "code",
   "execution_count": null,
   "metadata": {},
   "outputs": [],
   "source": [
    "from requests.auth import HTTPBasicAuth\n",
    "\n",
    "# Method 1: Using HTTPBasicAuth\n",
    "response1 = requests.get(\n",
    "    'https://httpbin.org/basic-auth/user/pass',\n",
    "    auth=HTTPBasicAuth('user', 'pass')\n",
    ")\n",
    "\n",
    "# Method 2: Using tuple (shorthand)\n",
    "response2 = requests.get(\n",
    "    'https://httpbin.org/basic-auth/user/pass',\n",
    "    auth=('user', 'pass')\n",
    ")\n",
    "\n",
    "print(f\"Basic Auth Status: {response1.status_code}\")\n",
    "print(f\"Authenticated user: {response1.json()['authenticated']}\")\n",
    "print(f\"User: {response1.json()['user']}\")"
   ]
  },
  {
   "cell_type": "markdown",
   "metadata": {},
   "source": [
    "### Bearer Token Authentication\n",
    "\n",
    "Many modern APIs use Bearer tokens for authentication:"
   ]
  },
  {
   "cell_type": "code",
   "execution_count": null,
   "metadata": {},
   "outputs": [],
   "source": [
    "# Bearer token authentication\n",
    "token = 'your-api-token-here'\n",
    "\n",
    "headers = {\n",
    "    'Authorization': f'Bearer {token}',\n",
    "    'Content-Type': 'application/json'\n",
    "}\n",
    "\n",
    "# Simulate API call with bearer token\n",
    "response = requests.get('https://httpbin.org/bearer', headers=headers)\n",
    "\n",
    "if response.status_code == 200:\n",
    "    print(\"✅ Bearer token authentication successful\")\n",
    "    pprint(response.json())\n",
    "else:\n",
    "    print(f\"❌ Authentication failed: {response.status_code}\")"
   ]
  },
  {
   "cell_type": "markdown",
   "metadata": {},
   "source": [
    "## Sessions and Cookies\n",
    "\n",
    "Sessions allow you to persist certain parameters across requests and automatically handle cookies:"
   ]
  },
  {
   "cell_type": "code",
   "execution_count": null,
   "metadata": {},
   "outputs": [],
   "source": [
    "# Creating a session\n",
    "session = requests.Session()\n",
    "\n",
    "# Set default headers for all requests in this session\n",
    "session.headers.update({\n",
    "    'User-Agent': 'My Session App 1.0',\n",
    "    'Accept': 'application/json'\n",
    "})\n",
    "\n",
    "# Make requests using the session\n",
    "response1 = session.get('https://httpbin.org/cookies/set/session_id/12345')\n",
    "response2 = session.get('https://httpbin.org/cookies')\n",
    "\n",
    "print(\"Cookies in session:\")\n",
    "pprint(response2.json()['cookies'])\n",
    "\n",
    "# Close the session when done\n",
    "session.close()"
   ]
  },
  {
   "cell_type": "code",
   "execution_count": null,
   "metadata": {},
   "outputs": [],
   "source": [
    "# Using session as context manager (recommended)\n",
    "with requests.Session() as session:\n",
    "    # Set authentication for all requests\n",
    "    session.auth = ('user', 'pass')\n",
    "    \n",
    "    # Set common headers\n",
    "    session.headers.update({'X-API-Version': '2.0'})\n",
    "    \n",
    "    # Make multiple requests\n",
    "    response1 = session.get('https://httpbin.org/get')\n",
    "    response2 = session.post('https://httpbin.org/post', json={'data': 'test'})\n",
    "    \n",
    "    print(f\"Request 1 status: {response1.status_code}\")\n",
    "    print(f\"Request 2 status: {response2.status_code}\")\n",
    "    \n",
    "# Session is automatically closed here"
   ]
  },
  {
   "cell_type": "markdown",
   "metadata": {},
   "source": [
    "## Error Handling\n",
    "\n",
    "Proper error handling is crucial when working with HTTP requests:"
   ]
  },
  {
   "cell_type": "code",
   "execution_count": null,
   "metadata": {},
   "outputs": [],
   "source": [
    "import requests\n",
    "from requests.exceptions import RequestException, Timeout, ConnectionError\n",
    "\n",
    "def safe_request(url, **kwargs):\n",
    "    \"\"\"Make a safe HTTP request with comprehensive error handling.\"\"\"\n",
    "    try:\n",
    "        response = requests.get(url, timeout=5, **kwargs)\n",
    "        \n",
    "        # Raise an exception for bad status codes\n",
    "        response.raise_for_status()\n",
    "        \n",
    "        return {\n",
    "            'success': True,\n",
    "            'data': response.json() if 'application/json' in response.headers.get('content-type', '') else response.text,\n",
    "            'status_code': response.status_code\n",
    "        }\n",
    "        \n",
    "    except Timeout:\n",
    "        return {'success': False, 'error': 'Request timed out'}\n",
    "        \n",
    "    except ConnectionError:\n",
    "        return {'success': False, 'error': 'Connection error'}\n",
    "        \n",
    "    except requests.exceptions.HTTPError as e:\n",
    "        return {'success': False, 'error': f'HTTP error: {e}'}\n",
    "        \n",
    "    except RequestException as e:\n",
    "        return {'success': False, 'error': f'Request error: {e}'}\n",
    "        \n",
    "    except ValueError as e:\n",
    "        return {'success': False, 'error': f'JSON decode error: {e}'}\n",
    "\n",
    "# Test the safe request function\n",
    "print(\"Testing successful request:\")\n",
    "result1 = safe_request('https://httpbin.org/get')\n",
    "print(f\"Success: {result1['success']}\")\n",
    "\n",
    "print(\"\\nTesting 404 error:\")\n",
    "result2 = safe_request('https://httpbin.org/status/404')\n",
    "print(f\"Success: {result2['success']}\")\n",
    "print(f\"Error: {result2['error']}\")\n",
    "\n",
    "print(\"\\nTesting timeout:\")\n",
    "result3 = safe_request('https://httpbin.org/delay/10', timeout=2)\n",
    "print(f\"Success: {result3['success']}\")\n",
    "print(f\"Error: {result3['error']}\")"
   ]
  },
  {
   "cell_type": "markdown",
   "metadata": {},
   "source": [
    "## Working with JSON\n",
    "\n",
    "JSON is the most common data format for web APIs:"
   ]
  },
  {
   "cell_type": "code",
   "execution_count": null,
   "metadata": {},
   "outputs": [],
   "source": [
    "# Working with JSON responses\n",
    "response = requests.get('https://jsonplaceholder.typicode.com/posts/1')\n",
    "\n",
    "if response.status_code == 200:\n",
    "    # Parse JSON response\n",
    "    post = response.json()\n",
    "    \n",
    "    print(\"Post details:\")\n",
    "    print(f\"Title: {post['title']}\")\n",
    "    print(f\"User ID: {post['userId']}\")\n",
    "    print(f\"Body: {post['body'][:100]}...\")\n",
    "else:\n",
    "    print(f\"Error: {response.status_code}\")"
   ]
  },
  {
   "cell_type": "code",
   "execution_count": null,
   "metadata": {},
   "outputs": [],
   "source": [
    "# Sending JSON data\n",
    "new_post = {\n",
    "    'title': 'My New Post',\n",
    "    'body': 'This is the content of my new post.',\n",
    "    'userId': 1\n",
    "}\n",
    "\n",
    "response = requests.post(\n",
    "    'https://jsonplaceholder.typicode.com/posts',\n",
    "    json=new_post  # This automatically sets Content-Type to application/json\n",
    ")\n",
    "\n",
    "if response.status_code == 201:\n",
    "    created_post = response.json()\n",
    "    print(f\"✅ Post created with ID: {created_post['id']}\")\n",
    "    print(f\"Title: {created_post['title']}\")\n",
    "else:\n",
    "    print(f\"❌ Failed to create post: {response.status_code}\")"
   ]
  },
  {
   "cell_type": "markdown",
   "metadata": {},
   "source": [
    "## File Operations\n",
    "\n",
    "The requests library makes it easy to download and upload files:"
   ]
  },
  {
   "cell_type": "markdown",
   "metadata": {},
   "source": [
    "### Downloading Files\n",
    "\n",
    "Here's how to download files efficiently:"
   ]
  },
  {
   "cell_type": "code",
   "execution_count": 5,
   "metadata": {},
   "outputs": [
    {
     "name": "stdout",
     "output_type": "stream",
     "text": [
      "200\n",
      "Downloading: 100.0%\n",
      "✅ Downloaded sample_image.png (8090 bytes)\n",
      "File saved successfully: 8090 bytes\n"
     ]
    }
   ],
   "source": [
    "import os\n",
    "\n",
    "def download_file(url, filename):\n",
    "    \"\"\"Download a file from URL and save it locally.\"\"\"\n",
    "    try:\n",
    "        # Use stream=True for large files to avoid loading everything into memory\n",
    "        response = requests.get(url, stream=True)\n",
    "        response.raise_for_status()\n",
    "        print(response.status_code)\n",
    "        \n",
    "        # Get file size if available\n",
    "        total_size = int(response.headers.get('content-length', 0))\n",
    "        \n",
    "        with open(filename, 'wb') as file:\n",
    "            downloaded = 0\n",
    "            for chunk in response.iter_content(chunk_size=8192):\n",
    "                if chunk:\n",
    "                    file.write(chunk)\n",
    "                    downloaded += len(chunk)\n",
    "                    \n",
    "                    # Show progress for large files\n",
    "                    if total_size > 0:\n",
    "                        percent = (downloaded / total_size) * 100\n",
    "                        print(f\"\\rDownloading: {percent:.1f}%\", end='', flush=True)\n",
    "        \n",
    "        print(f\"\\n✅ Downloaded {filename} ({downloaded} bytes)\")\n",
    "        return True\n",
    "        \n",
    "    except Exception as e:\n",
    "        print(f\"❌ Download failed: {e}\")\n",
    "        return False\n",
    "\n",
    "# Example: Download a small image\n",
    "image_url = 'https://httpbin.org/image/png'\n",
    "success = download_file(image_url, 'sample_image.png')\n",
    "\n",
    "if success and os.path.exists('sample_image.png'):\n",
    "    file_size = os.path.getsize('sample_image.png')\n",
    "    print(f\"File saved successfully: {file_size} bytes\")"
   ]
  },
  {
   "cell_type": "markdown",
   "metadata": {},
   "source": [
    "### Uploading Files\n",
    "\n",
    "Here's how to upload files to a server:"
   ]
  },
  {
   "cell_type": "code",
   "execution_count": 6,
   "metadata": {},
   "outputs": [
    {
     "name": "stdout",
     "output_type": "stream",
     "text": [
      "✅ File uploaded successfully!\n",
      "Filename: This is a sample file for upload testing.\n",
      "It conta...\n",
      "Form data: {'category': 'test', 'description': 'Sample file upload'}\n"
     ]
    }
   ],
   "source": [
    "# Create a sample text file to upload\n",
    "sample_content = \"\"\"This is a sample file for upload testing.\n",
    "It contains multiple lines of text.\n",
    "Created by the Python requests tutorial.\"\"\"\n",
    "\n",
    "with open('sample_upload.txt', 'w') as f:\n",
    "    f.write(sample_content)\n",
    "\n",
    "# Upload the file\n",
    "with open('sample_upload.txt', 'rb') as file:\n",
    "    files = {'file': ('sample_upload.txt', file, 'text/plain')}\n",
    "    \n",
    "    # Additional form data\n",
    "    data = {\n",
    "        'description': 'Sample file upload',\n",
    "        'category': 'test'\n",
    "    }\n",
    "    \n",
    "    response = requests.post('https://httpbin.org/post', files=files, data=data)\n",
    "\n",
    "if response.status_code == 200:\n",
    "    result = response.json()\n",
    "    print(\"✅ File uploaded successfully!\")\n",
    "    print(f\"Filename: {result['files']['file'][:50]}...\")\n",
    "    print(f\"Form data: {result['form']}\")\n",
    "else:\n",
    "    print(f\"❌ Upload failed: {response.status_code}\")\n",
    "\n",
    "# Clean up\n",
    "import os\n",
    "if os.path.exists('sample_upload.txt'):\n",
    "    os.remove('sample_upload.txt')\n",
    "if os.path.exists('sample_image.png'):\n",
    "    os.remove('sample_image.png')"
   ]
  },
  {
   "cell_type": "markdown",
   "metadata": {},
   "source": [
    "## Advanced Features\n",
    "\n",
    "Let's explore some advanced features of the requests library:"
   ]
  },
  {
   "cell_type": "markdown",
   "metadata": {},
   "source": [
    "### Timeouts and Retries\n",
    "\n",
    "Always set timeouts and implement retry logic for production applications:"
   ]
  },
  {
   "cell_type": "code",
   "execution_count": null,
   "metadata": {},
   "outputs": [],
   "source": [
    "import time\n",
    "from requests.adapters import HTTPAdapter\n",
    "from requests.packages.urllib3.util.retry import Retry\n",
    "\n",
    "def create_session_with_retries():\n",
    "    \"\"\"Create a session with automatic retries.\"\"\"\n",
    "    session = requests.Session()\n",
    "    \n",
    "    # Define retry strategy\n",
    "    retry_strategy = Retry(\n",
    "        total=3,  # Total number of retries\n",
    "        backoff_factor=1,  # Wait time between retries\n",
    "        status_forcelist=[429, 500, 502, 503, 504],  # HTTP status codes to retry\n",
    "        method_whitelist=[\"HEAD\", \"GET\", \"OPTIONS\"]  # HTTP methods to retry\n",
    "    )\n",
    "    \n",
    "    # Mount adapter with retry strategy\n",
    "    adapter = HTTPAdapter(max_retries=retry_strategy)\n",
    "    session.mount(\"http://\", adapter)\n",
    "    session.mount(\"https://\", adapter)\n",
    "    \n",
    "    return session\n",
    "\n",
    "# Test the retry mechanism\n",
    "session = create_session_with_retries()\n",
    "\n",
    "try:\n",
    "    # This will retry automatically on failure\n",
    "    response = session.get('https://httpbin.org/status/500', timeout=5)\n",
    "    print(f\"Response status: {response.status_code}\")\n",
    "except Exception as e:\n",
    "    print(f\"Request failed after retries: {e}\")\n",
    "\n",
    "session.close()"
   ]
  },
  {
   "cell_type": "markdown",
   "metadata": {},
   "source": [
    "### Concurrent Requests\n",
    "\n",
    "For better performance, you can make multiple requests concurrently:"
   ]
  },
  {
   "cell_type": "code",
   "execution_count": null,
   "metadata": {},
   "outputs": [],
   "source": [
    "import concurrent.futures\n",
    "import time\n",
    "\n",
    "def fetch_url(url):\n",
    "    \"\"\"Fetch a single URL and return the result.\"\"\"\n",
    "    try:\n",
    "        response = requests.get(url, timeout=5)\n",
    "        return {\n",
    "            'url': url,\n",
    "            'status': response.status_code,\n",
    "            'size': len(response.content),\n",
    "            'success': True\n",
    "        }\n",
    "    except Exception as e:\n",
    "        return {\n",
    "            'url': url,\n",
    "            'error': str(e),\n",
    "            'success': False\n",
    "        }\n",
    "\n",
    "# URLs to fetch concurrently\n",
    "urls = [\n",
    "    'https://httpbin.org/delay/1',\n",
    "    'https://httpbin.org/delay/2',\n",
    "    'https://httpbin.org/get',\n",
    "    'https://jsonplaceholder.typicode.com/posts/1',\n",
    "    'https://jsonplaceholder.typicode.com/posts/2'\n",
    "]\n",
    "\n",
    "# Sequential requests (for comparison)\n",
    "start_time = time.time()\n",
    "sequential_results = []\n",
    "for url in urls:\n",
    "    result = fetch_url(url)\n",
    "    sequential_results.append(result)\n",
    "sequential_time = time.time() - start_time\n",
    "\n",
    "print(f\"Sequential requests took: {sequential_time:.2f} seconds\")\n",
    "\n",
    "# Concurrent requests\n",
    "start_time = time.time()\n",
    "with concurrent.futures.ThreadPoolExecutor(max_workers=5) as executor:\n",
    "    concurrent_results = list(executor.map(fetch_url, urls))\n",
    "concurrent_time = time.time() - start_time\n",
    "\n",
    "print(f\"Concurrent requests took: {concurrent_time:.2f} seconds\")\n",
    "print(f\"Speed improvement: {sequential_time/concurrent_time:.1f}x faster\")\n",
    "\n",
    "# Show results\n",
    "print(\"\\nResults:\")\n",
    "for result in concurrent_results:\n",
    "    if result['success']:\n",
    "        print(f\"✅ {result['url']}: {result['status']} ({result['size']} bytes)\")\n",
    "    else:\n",
    "        print(f\"❌ {result['url']}: {result['error']}\")"
   ]
  },
  {
   "cell_type": "markdown",
   "metadata": {},
   "source": [
    "## Practice Questions\n",
    "\n",
    "Now let's test your understanding with some practice questions!"
   ]
  },
  {
   "cell_type": "markdown",
   "metadata": {},
   "source": [
    "### Question 1: Basic API Interaction\n",
    "\n",
    "Create a function that fetches user information from the JSONPlaceholder API and returns a formatted string with the user's name, email, and company name.\n",
    "\n",
    "**Requirements:**\n",
    "- Use the endpoint: `https://jsonplaceholder.typicode.com/users/{user_id}`\n",
    "- Handle errors gracefully\n",
    "- Return a formatted string like: \"John Doe (john@example.com) works at ACME Corp\""
   ]
  },
  {
   "cell_type": "markdown",
   "metadata": {},
   "source": [
    "<details>\n",
    "<summary>💡 Click for hint</summary>\n",
    "\n",
    "```python\n",
    "def get_user_info(user_id):\n",
    "    url = f\"https://jsonplaceholder.typicode.com/users/{user_id}\"\n",
    "    # Your code here\n",
    "    # 1. Make GET request\n",
    "    # 2. Check status code\n",
    "    # 3. Parse JSON\n",
    "    # 4. Extract name, email, company.name\n",
    "    # 5. Return formatted string\n",
    "```\n",
    "\n",
    "</details>"
   ]
  },
  {
   "cell_type": "code",
   "execution_count": 28,
   "metadata": {},
   "outputs": [
    {
     "name": "stdout",
     "output_type": "stream",
     "text": [
      "Leanne Graham (Sincere@april.biz) works ar Romaguera-Crona\n"
     ]
    }
   ],
   "source": [
    "# Your solution here\n",
    "def get_user_info(user_id):\n",
    "    try:\n",
    "        url = f'https://jsonplaceholder.typicode.com/users/{user_id}'\n",
    "        response = requests.get(url)\n",
    "        response.raise_for_status()\n",
    "        data = response.json()\n",
    "        name = data['name']\n",
    "        email = data['email']\n",
    "        company = data['company']['name']\n",
    "        return f'{name} ({email}) works ar {company}'\n",
    "    except KeyError as e:\n",
    "        return f'Missing data from {e}'\n",
    "    except requests.exceptions.RequestException as e:\n",
    "        return f\"Error fetching user data: {e}\"\n",
    "\n",
    "# Test your function\n",
    "result = get_user_info(1)\n",
    "print(result)"
   ]
  },
  {
   "cell_type": "markdown",
   "metadata": {},
   "source": [
    "<details>\n",
    "<summary>🔍 Click to reveal solution</summary>\n",
    "\n",
    "```python\n",
    "def get_user_info(user_id):\n",
    "    try:\n",
    "        url = f\"https://jsonplaceholder.typicode.com/users/{user_id}\"\n",
    "        response = requests.get(url)\n",
    "        response.raise_for_status()\n",
    "        \n",
    "        user = response.json()\n",
    "        name = user['name']\n",
    "        email = user['email']\n",
    "        company = user['company']['name']\n",
    "        \n",
    "        return f\"{name} ({email}) works at {company}\"\n",
    "        \n",
    "    except requests.exceptions.RequestException as e:\n",
    "        return f\"Error fetching user data: {e}\"\n",
    "    except KeyError as e:\n",
    "        return f\"Missing data in response: {e}\"\n",
    "\n",
    "# Test the solution\n",
    "result = get_user_info(1)\n",
    "print(result)\n",
    "```\n",
    "\n",
    "</details>"
   ]
  },
  {
   "cell_type": "code",
   "execution_count": null,
   "metadata": {},
   "outputs": [],
   "source": [
    "# Run your solution here"
   ]
  },
  {
   "cell_type": "markdown",
   "metadata": {},
   "source": [
    "### Question 2: POST Request with Authentication\n",
    "\n",
    "Create a function that simulates creating a new post with authentication. The function should:\n",
    "\n",
    "**Requirements:**\n",
    "- Accept title, body, and user_id as parameters\n",
    "- Use Bearer token authentication\n",
    "- Send data as JSON\n",
    "- Return the created post's ID if successful\n",
    "- Use endpoint: `https://jsonplaceholder.typicode.com/posts`"
   ]
  },
  {
   "cell_type": "markdown",
   "metadata": {},
   "source": [
    "<details>\n",
    "<summary>💡 Click for hint</summary>\n",
    "\n",
    "```python\n",
    "def create_post(title, body, user_id, token):\n",
    "    headers = {\n",
    "        'Authorization': f'Bearer {token}',\n",
    "        'Content-Type': 'application/json'\n",
    "    }\n",
    "    data = {\n",
    "        # Your data structure here\n",
    "    }\n",
    "    # Make POST request and handle response\n",
    "```\n",
    "\n",
    "</details>"
   ]
  },
  {
   "cell_type": "code",
   "execution_count": 26,
   "metadata": {},
   "outputs": [
    {
     "name": "stdout",
     "output_type": "stream",
     "text": [
      "101\n"
     ]
    }
   ],
   "source": [
    "# Your solution here\n",
    "def create_post(title, body, user_id, token):\n",
    "    data = {\"title\": title, \"body\": body, \"user_id\":user_id}\n",
    "    headers = {\"Authorization\": f'Bearer {token}', 'Content-Type': 'application/json'}\n",
    "    url = \"https://jsonplaceholder.typicode.com/posts\"\n",
    "    try:\n",
    "        response = requests.post(url, json = data, headers = headers)\n",
    "        data = response.json()\n",
    "        response.raise_for_status()\n",
    "        return data['id']\n",
    "    except requests.exceptions.RequestException as e:\n",
    "        return f'post request failed'\n",
    "\n",
    "\n",
    "# Test your function\n",
    "result = create_post(\"Test Title\", \"Test Body\", 101, \"fake-token\")\n",
    "print(result)"
   ]
  },
  {
   "cell_type": "markdown",
   "metadata": {},
   "source": [
    "<details>\n",
    "<summary>🔍 Click to reveal solution</summary>\n",
    "\n",
    "```python\n",
    "def create_post(title, body, user_id, token):\n",
    "    try:\n",
    "        url = \"https://jsonplaceholder.typicode.com/posts\"\n",
    "        \n",
    "        headers = {\n",
    "            'Authorization': f'Bearer {token}',\n",
    "            'Content-Type': 'application/json'\n",
    "        }\n",
    "        \n",
    "        data = {\n",
    "            'title': title,\n",
    "            'body': body,\n",
    "            'userId': user_id\n",
    "        }\n",
    "        \n",
    "        response = requests.post(url, json=data, headers=headers)\n",
    "        response.raise_for_status()\n",
    "        \n",
    "        post = response.json()\n",
    "        return f\"Post created successfully with ID: {post['id']}\"\n",
    "        \n",
    "    except requests.exceptions.RequestException as e:\n",
    "        return f\"Error creating post: {e}\"\n",
    "\n",
    "# Test the solution\n",
    "result = create_post(\"My Test Post\", \"This is a test post body\", 1, \"fake-token-123\")\n",
    "print(result)\n",
    "```\n",
    "\n",
    "</details>"
   ]
  },
  {
   "cell_type": "code",
   "execution_count": null,
   "metadata": {},
   "outputs": [],
   "source": [
    "# Run your solution here"
   ]
  },
  {
   "cell_type": "markdown",
   "metadata": {},
   "source": [
    "### Question 3: Session-based API Client\n",
    "\n",
    "Create a simple API client class that uses sessions to maintain state across requests.\n",
    "\n",
    "**Requirements:**\n",
    "- Use a session for all requests\n",
    "- Set a default User-Agent header\n",
    "- Implement methods for GET and POST\n",
    "- Include proper error handling\n",
    "- Add a close method to clean up the session"
   ]
  },
  {
   "cell_type": "markdown",
   "metadata": {},
   "source": [
    "<details>\n",
    "<summary>💡 Click for hint</summary>\n",
    "\n",
    "```python\n",
    "class APIClient:\n",
    "    def __init__(self, base_url):\n",
    "        self.base_url = base_url\n",
    "        self.session = requests.Session()\n",
    "        # Set default headers\n",
    "        \n",
    "    def get(self, endpoint):\n",
    "        # Implement GET method\n",
    "        \n",
    "    def post(self, endpoint, data=None):\n",
    "        # Implement POST method\n",
    "        \n",
    "    def close(self):\n",
    "        # Close session\n",
    "```\n",
    "\n",
    "</details>"
   ]
  },
  {
   "cell_type": "code",
   "execution_count": null,
   "metadata": {},
   "outputs": [],
   "source": [
    "# Your solution here\n",
    "class APIClient:\n",
    "    def __init__(self, base_url):\n",
    "        # Write your code here\n",
    "        pass\n",
    "    \n",
    "    def get(self, endpoint):\n",
    "        # Write your code here\n",
    "        pass\n",
    "    \n",
    "    def post(self, endpoint, data=None):\n",
    "        # Write your code here\n",
    "        pass\n",
    "    \n",
    "    def close(self):\n",
    "        # Write your code here\n",
    "        pass\n",
    "\n",
    "# Test your class\n",
    "# client = APIClient('https://jsonplaceholder.typicode.com')\n",
    "# result = client.get('/posts/1')\n",
    "# print(result)\n",
    "# client.close()"
   ]
  },
  {
   "cell_type": "markdown",
   "metadata": {},
   "source": [
    "<details>\n",
    "<summary>🔍 Click to reveal solution</summary>\n",
    "\n",
    "```python\n",
    "class APIClient:\n",
    "    def __init__(self, base_url):\n",
    "        self.base_url = base_url.rstrip('/')\n",
    "        self.session = requests.Session()\n",
    "        \n",
    "        # Set default headers\n",
    "        self.session.headers.update({\n",
    "            'User-Agent': 'Python APIClient 1.0',\n",
    "            'Accept': 'application/json'\n",
    "        })\n",
    "    \n",
    "    def get(self, endpoint):\n",
    "        try:\n",
    "            url = f\"{self.base_url}{endpoint}\"\n",
    "            response = self.session.get(url)\n",
    "            response.raise_for_status()\n",
    "            \n",
    "            return {\n",
    "                'success': True,\n",
    "                'data': response.json(),\n",
    "                'status_code': response.status_code\n",
    "            }\n",
    "        except Exception as e:\n",
    "            return {\n",
    "                'success': False,\n",
    "                'error': str(e)\n",
    "            }\n",
    "    \n",
    "    def post(self, endpoint, data=None):\n",
    "        try:\n",
    "            url = f\"{self.base_url}{endpoint}\"\n",
    "            response = self.session.post(url, json=data)\n",
    "            response.raise_for_status()\n",
    "            \n",
    "            return {\n",
    "                'success': True,\n",
    "                'data': response.json(),\n",
    "                'status_code': response.status_code\n",
    "            }\n",
    "        except Exception as e:\n",
    "            return {\n",
    "                'success': False,\n",
    "                'error': str(e)\n",
    "            }\n",
    "    \n",
    "    def close(self):\n",
    "        self.session.close()\n",
    "\n",
    "# Test the solution\n",
    "client = APIClient('https://jsonplaceholder.typicode.com')\n",
    "\n",
    "# Test GET request\n",
    "result1 = client.get('/posts/1')\n",
    "if result1['success']:\n",
    "    print(f\"✅ GET request: {result1['data']['title']}\")\n",
    "\n",
    "# Test POST request\n",
    "post_data = {'title': 'Test Post', 'body': 'Test content', 'userId': 1}\n",
    "result2 = client.post('/posts', data=post_data)\n",
    "if result2['success']:\n",
    "    print(f\"✅ POST request: Created post with ID {result2['data']['id']}\")\n",
    "\n",
    "client.close()\n",
    "print(\"APIClient test completed!\")\n",
    "```\n",
    "\n",
    "</details>"
   ]
  },
  {
   "cell_type": "code",
   "execution_count": null,
   "metadata": {},
   "outputs": [],
   "source": [
    "# Run your solution here"
   ]
  },
  {
   "cell_type": "markdown",
   "metadata": {},
   "source": [
    "### Question 4: Advanced API Client with Rate Limiting\n",
    "\n",
    "Create an advanced API client that includes rate limiting, retries, and caching.\n",
    "\n",
    "**Requirements:**\n",
    "- Implement rate limiting (max requests per second)\n",
    "- Add automatic retries with exponential backoff\n",
    "- Include simple response caching\n",
    "- Add request/response logging\n",
    "- Support custom headers and authentication"
   ]
  },
  {
   "cell_type": "markdown",
   "metadata": {},
   "source": [
    "<details>\n",
    "<summary>💡 Click for hint</summary>\n",
    "\n",
    "```python\n",
    "import time\n",
    "from datetime import datetime, timedelta\n",
    "\n",
    "class AdvancedAPIClient:\n",
    "    def __init__(self, base_url, rate_limit=1.0):\n",
    "        # Initialize session, rate limiting, cache\n",
    "        self.rate_limit = rate_limit  # requests per second\n",
    "        self.last_request_time = 0\n",
    "        self.cache = {}\n",
    "        \n",
    "    def _rate_limit(self):\n",
    "        # Implement rate limiting logic\n",
    "        \n",
    "    def _get_cache_key(self, method, url, params):\n",
    "        # Generate cache key\n",
    "        \n",
    "    def request(self, method, endpoint, **kwargs):\n",
    "        # Main request method with retries and caching\n",
    "```\n",
    "\n",
    "</details>"
   ]
  },
  {
   "cell_type": "code",
   "execution_count": null,
   "metadata": {},
   "outputs": [],
   "source": [
    "# Your solution here\n",
    "import time\n",
    "from datetime import datetime, timedelta\n",
    "import hashlib\n",
    "\n",
    "class AdvancedAPIClient:\n",
    "    def __init__(self, base_url, rate_limit=1.0):\n",
    "        # Write your code here\n",
    "        pass\n",
    "    \n",
    "    def _rate_limit(self):\n",
    "        # Write your code here\n",
    "        pass\n",
    "    \n",
    "    def request(self, method, endpoint, **kwargs):\n",
    "        # Write your code here\n",
    "        pass\n",
    "\n",
    "# Test your class\n",
    "# client = AdvancedAPIClient('https://jsonplaceholder.typicode.com', rate_limit=2.0)\n",
    "# result = client.request('GET', '/posts/1')\n",
    "# print(result)"
   ]
  },
  {
   "cell_type": "markdown",
   "metadata": {},
   "source": [
    "<details>\n",
    "<summary>🔍 Click to reveal solution</summary>\n",
    "\n",
    "```python\n",
    "import time\n",
    "from datetime import datetime, timedelta\n",
    "import hashlib\n",
    "import json\n",
    "\n",
    "class AdvancedAPIClient:\n",
    "    def __init__(self, base_url, rate_limit=1.0, cache_ttl=300):\n",
    "        self.base_url = base_url.rstrip('/')\n",
    "        self.session = requests.Session()\n",
    "        self.rate_limit = rate_limit  # requests per second\n",
    "        self.last_request_time = 0\n",
    "        self.cache = {}\n",
    "        self.cache_ttl = cache_ttl  # cache time-to-live in seconds\n",
    "        \n",
    "        # Set default headers\n",
    "        self.session.headers.update({\n",
    "            'User-Agent': 'Advanced Python APIClient 1.0',\n",
    "            'Accept': 'application/json'\n",
    "        })\n",
    "    \n",
    "    def _rate_limit(self):\n",
    "        \"\"\"Implement rate limiting.\"\"\"\n",
    "        current_time = time.time()\n",
    "        time_since_last = current_time - self.last_request_time\n",
    "        min_interval = 1.0 / self.rate_limit\n",
    "        \n",
    "        if time_since_last < min_interval:\n",
    "            sleep_time = min_interval - time_since_last\n",
    "            print(f\"Rate limiting: sleeping for {sleep_time:.2f} seconds\")\n",
    "            time.sleep(sleep_time)\n",
    "        \n",
    "        self.last_request_time = time.time()\n",
    "    \n",
    "    def _get_cache_key(self, method, url, params=None):\n",
    "        \"\"\"Generate a cache key for the request.\"\"\"\n",
    "        cache_data = f\"{method}:{url}:{json.dumps(params, sort_keys=True) if params else ''}\"\n",
    "        return hashlib.md5(cache_data.encode()).hexdigest()\n",
    "    \n",
    "    def _get_from_cache(self, cache_key):\n",
    "        \"\"\"Get response from cache if valid.\"\"\"\n",
    "        if cache_key in self.cache:\n",
    "            cached_data, timestamp = self.cache[cache_key]\n",
    "            if time.time() - timestamp < self.cache_ttl:\n",
    "                print(\"📦 Cache hit\")\n",
    "                return cached_data\n",
    "            else:\n",
    "                # Cache expired\n",
    "                del self.cache[cache_key]\n",
    "        return None\n",
    "    \n",
    "    def _save_to_cache(self, cache_key, data):\n",
    "        \"\"\"Save response to cache.\"\"\"\n",
    "        self.cache[cache_key] = (data, time.time())\n",
    "    \n",
    "    def request(self, method, endpoint, use_cache=True, max_retries=3, **kwargs):\n",
    "        \"\"\"Make a request with rate limiting, caching, and retries.\"\"\"\n",
    "        url = f\"{self.base_url}{endpoint}\"\n",
    "        \n",
    "        # Check cache for GET requests\n",
    "        if method.upper() == 'GET' and use_cache:\n",
    "            cache_key = self._get_cache_key(method, url, kwargs.get('params'))\n",
    "            cached_response = self.cache.get(cache_key)\n",
    "            if cached_response:\n",
    "                data, timestamp = cached_response\n",
    "                if time.time() - timestamp < self.cache_ttl:\n",
    "                    return data\n",
    "        \n",
    "        # Rate limiting\n",
    "        self._wait_for_rate_limit()\n",
    "        \n",
    "        # Make request with retries\n",
    "        for attempt in range(max_retries):\n",
    "            try:\n",
    "                response = requests.request(method, url, **kwargs)\n",
    "                response.raise_for_status()\n",
    "                \n",
    "                # Cache successful GET responses\n",
    "                if method.upper() == 'GET' and use_cache:\n",
    "                    self._cache_response(cache_key, response.json())\n",
    "                \n",
    "                return response.json()\n",
    "            except requests.exceptions.RequestException as e:\n",
    "                if attempt == max_retries - 1:\n",
    "                    raise e\n",
    "                time.sleep(2 ** attempt)  # Exponential backoff\n",
    "\n",
    "# Example usage\n",
    "api = AdvancedAPIClient('https://api.example.com')\n",
    "\n",
    "# This will use caching and rate limiting\n",
    "response = api.request('GET', '/users')\n",
    "print(response)\n",
    "```\n",
    "\n",
    "</details>"
   ]
  },
  {
   "cell_type": "code",
   "execution_count": null,
   "metadata": {},
   "outputs": [],
   "source": [
    "# Run your solution here"
   ]
  },
  {
   "cell_type": "markdown",
   "metadata": {},
   "source": [
    "## Quick Quiz\n",
    "\n",
    "Test your knowledge of the Python requests library with these simple questions:\n",
    "\n",
    "---"
   ]
  },
  {
   "cell_type": "markdown",
   "metadata": {},
   "source": [
    "### Question 1: Basic GET Request\n",
    "\n",
    "How do you make a simple GET request to 'https://api.example.com/users' using the requests library?"
   ]
  },
  {
   "cell_type": "markdown",
   "metadata": {},
   "source": [
    "<details>\n",
    "<summary>Click to reveal answer</summary>\n",
    "\n",
    "```python\n",
    "import requests\n",
    "\n",
    "response = requests.get('https://api.example.com/users')\n",
    "```\n",
    "\n",
    "</details>"
   ]
  },
  {
   "cell_type": "code",
   "execution_count": 4,
   "metadata": {},
   "outputs": [],
   "source": [
    "#import requests\n",
    "#requests.get('https://api.example.com/users')"
   ]
  },
  {
   "cell_type": "markdown",
   "metadata": {},
   "source": [
    "### Question 2: Getting Status Code\n",
    "\n",
    "After making a request, how do you access the HTTP status code from the response object?\n",
    "\n",
    "<details>\n",
    "<summary>Click to reveal answer</summary>\n",
    "\n",
    "```python\n",
    "response = requests.get('https://api.example.com/users')\n",
    "status_code = response.status_code\n",
    "print(status_code)  # e.g., 200\n",
    "```\n",
    "\n",
    "</details>"
   ]
  },
  {
   "cell_type": "code",
   "execution_count": 17,
   "metadata": {},
   "outputs": [
    {
     "data": {
      "text/plain": [
       "200"
      ]
     },
     "execution_count": 17,
     "metadata": {},
     "output_type": "execute_result"
    }
   ],
   "source": [
    "response.status_code"
   ]
  },
  {
   "cell_type": "markdown",
   "metadata": {},
   "source": [
    "### Question 3: Sending Query Parameters\n",
    "\n",
    "How do you send query parameters (e.g., ?name=John&age=30) with a GET request?\n",
    "\n",
    "<details>\n",
    "<summary>Click to reveal answer</summary>\n",
    "\n",
    "```python\n",
    "params = {'name': 'John', 'age': 30}\n",
    "response = requests.get('https://api.example.com/users', params=params)\n",
    "```\n",
    "\n",
    "</details>"
   ]
  },
  {
   "cell_type": "code",
   "execution_count": null,
   "metadata": {},
   "outputs": [],
   "source": [
    "params = {\n",
    "    \"name\": \"John\",\n",
    "    \"age\": \"30\"\n",
    "}\n",
    "requests.get(\"url\", params=params)"
   ]
  },
  {
   "cell_type": "markdown",
   "metadata": {},
   "source": [
    "### Question 4: POST Request with JSON Data\n",
    "\n",
    "How do you send JSON data in a POST request?\n",
    "\n",
    "<details>\n",
    "<summary>Click to reveal answer</summary>\n",
    "\n",
    "```python\n",
    "data = {'name': 'Alice', 'email': 'alice@example.com'}\n",
    "response = requests.post('https://api.example.com/users', json=data)\n",
    "```\n",
    "\n",
    "</details>"
   ]
  },
  {
   "cell_type": "code",
   "execution_count": null,
   "metadata": {},
   "outputs": [],
   "source": []
  },
  {
   "cell_type": "markdown",
   "metadata": {},
   "source": [
    "### Question 5: Adding Custom Headers\n",
    "\n",
    "How do you add custom headers to a request (e.g., Authorization header)?\n",
    "\n",
    "<details>\n",
    "<summary>Click to reveal answer</summary>\n",
    "\n",
    "```python\n",
    "headers = {'Authorization': 'Bearer your-token-here'}\n",
    "response = requests.get('https://api.example.com/users', headers=headers)\n",
    "```\n",
    "\n",
    "</details>"
   ]
  },
  {
   "cell_type": "code",
   "execution_count": null,
   "metadata": {},
   "outputs": [],
   "source": []
  },
  {
   "cell_type": "markdown",
   "metadata": {},
   "source": [
    "### Question 6: Parsing JSON Response\n",
    "\n",
    "How do you parse JSON data from a response?\n",
    "\n",
    "<details>\n",
    "<summary>Click to reveal answer</summary>\n",
    "\n",
    "```python\n",
    "response = requests.get('https://api.example.com/users')\n",
    "data = response.json()  # Parses JSON into Python dict/list\n",
    "```\n",
    "\n",
    "</details>"
   ]
  },
  {
   "cell_type": "code",
   "execution_count": null,
   "metadata": {},
   "outputs": [],
   "source": []
  },
  {
   "cell_type": "markdown",
   "metadata": {},
   "source": [
    "### Question 7: Basic Error Handling\n",
    "\n",
    "How do you check if a request was successful and handle HTTP errors?\n",
    "\n",
    "<details>\n",
    "<summary>Click to reveal answer</summary>\n",
    "\n",
    "```python\n",
    "response = requests.get('https://api.example.com/users')\n",
    "\n",
    "# Method 1: Check status code\n",
    "if response.status_code == 200:\n",
    "    data = response.json()\n",
    "else:\n",
    "    print(f'Error: {response.status_code}')\n",
    "\n",
    "# Method 2: Use raise_for_status()\n",
    "try:\n",
    "    response.raise_for_status()\n",
    "    data = response.json()\n",
    "except requests.exceptions.HTTPError as e:\n",
    "    print(f'HTTP Error: {e}')\n",
    "```\n",
    "\n",
    "</details>"
   ]
  },
  {
   "cell_type": "code",
   "execution_count": null,
   "metadata": {},
   "outputs": [],
   "source": []
  },
  {
   "cell_type": "markdown",
   "metadata": {},
   "source": [
    "### Question 8: Setting Timeout\n",
    "\n",
    "How do you set a timeout for a request to prevent it from hanging indefinitely?\n",
    "\n",
    "<details>\n",
    "<summary>Click to reveal answer</summary>\n",
    "\n",
    "```python\n",
    "# Timeout after 5 seconds\n",
    "response = requests.get('https://api.example.com/users', timeout=5)\n",
    "\n",
    "# Different timeouts for connection and read\n",
    "response = requests.get('https://api.example.com/users', timeout=(3, 10))\n",
    "```\n",
    "\n",
    "</details>"
   ]
  },
  {
   "cell_type": "code",
   "execution_count": null,
   "metadata": {},
   "outputs": [],
   "source": []
  }
 ],
 "metadata": {
  "kernelspec": {
   "display_name": "SQL",
   "language": "python",
   "name": "sql"
  },
  "language_info": {
   "codemirror_mode": {
    "name": "ipython",
    "version": 3
   },
   "file_extension": ".py",
   "mimetype": "text/x-python",
   "name": "python",
   "nbconvert_exporter": "python",
   "pygments_lexer": "ipython3",
   "version": "3.13.5"
  }
 },
 "nbformat": 4,
 "nbformat_minor": 4
}
