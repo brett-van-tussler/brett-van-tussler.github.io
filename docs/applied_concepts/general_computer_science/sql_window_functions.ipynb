{
 "cells": [
  {
   "cell_type": "markdown",
   "metadata": {},
   "source": [
    "# SQL Window Functions: A Comprehensive Guide\n",
    "\n",
    "Window functions are powerful SQL features that allow you to perform calculations across a set of table rows that are somehow related to the current row. Unlike aggregate functions, window functions don't cause rows to become grouped into a single output row — the rows retain their separate identities.\n",
    "\n",
    "## What are Window Functions?\n",
    "\n",
    "Window functions operate on a set of rows and return a single value for each row from the underlying query. The set of rows is called a \"window\" and is defined by the `OVER` clause.\n",
    "\n",
    "### Basic Syntax\n",
    "```sql\n",
    "function_name([arguments]) OVER (\n",
    "    [PARTITION BY column1, column2, ...]\n",
    "    [ORDER BY column1 [ASC|DESC], column2 [ASC|DESC], ...]\n",
    "    [ROWS|RANGE frame_specification]\n",
    ")\n",
    "```"
   ]
  },
  {
   "cell_type": "markdown",
   "metadata": {},
   "source": [
    "## Setup: Import Required Libraries\n",
    "\n",
    "First, let's import the necessary Python libraries to make this notebook interactive and runnable:"
   ]
  },
  {
   "cell_type": "code",
   "execution_count": 3,
   "metadata": {},
   "outputs": [
    {
     "name": "stdout",
     "output_type": "stream",
     "text": [
      "\u001b[31mERROR: Could not find a version that satisfies the requirement sqlite3 (from versions: none)\u001b[0m\u001b[31m\n",
      "\u001b[0m\u001b[31mERROR: No matching distribution found for sqlite3\u001b[0m\u001b[31m\n",
      "\u001b[0m"
     ]
    }
   ],
   "source": [
    "!pip install sqlite3"
   ]
  },
  {
   "cell_type": "code",
   "execution_count": 1,
   "metadata": {},
   "outputs": [
    {
     "ename": "ModuleNotFoundError",
     "evalue": "No module named 'pandas'",
     "output_type": "error",
     "traceback": [
      "\u001b[31m---------------------------------------------------------------------------\u001b[39m",
      "\u001b[31mModuleNotFoundError\u001b[39m                       Traceback (most recent call last)",
      "\u001b[36mCell\u001b[39m\u001b[36m \u001b[39m\u001b[32mIn[1]\u001b[39m\u001b[32m, line 1\u001b[39m\n\u001b[32m----> \u001b[39m\u001b[32m1\u001b[39m \u001b[38;5;28;01mimport\u001b[39;00m\u001b[38;5;250m \u001b[39m\u001b[34;01mpandas\u001b[39;00m\u001b[38;5;250m \u001b[39m\u001b[38;5;28;01mas\u001b[39;00m\u001b[38;5;250m \u001b[39m\u001b[34;01mpd\u001b[39;00m\n\u001b[32m      2\u001b[39m \u001b[38;5;28;01mimport\u001b[39;00m\u001b[38;5;250m \u001b[39m\u001b[34;01msqlite3\u001b[39;00m\n\u001b[32m      3\u001b[39m \u001b[38;5;28;01mfrom\u001b[39;00m\u001b[38;5;250m \u001b[39m\u001b[34;01mdatetime\u001b[39;00m\u001b[38;5;250m \u001b[39m\u001b[38;5;28;01mimport\u001b[39;00m datetime\n",
      "\u001b[31mModuleNotFoundError\u001b[39m: No module named 'pandas'"
     ]
    }
   ],
   "source": [
    "import pandas as pd\n",
    "import sqlite3\n",
    "from datetime import datetime\n",
    "import warnings\n",
    "warnings.filterwarnings('ignore')\n",
    "\n",
    "# Create an in-memory SQLite database\n",
    "conn = sqlite3.connect(':memory:')\n",
    "\n",
    "# Helper function to execute SQL and display results\n",
    "def run_sql(query, description=None):\n",
    "    if description:\n",
    "        print(f\"\\n{description}\")\n",
    "        print(\"=\" * len(description))\n",
    "    \n",
    "    try:\n",
    "        result = pd.read_sql_query(query, conn)\n",
    "        print(result.to_string(index=False))\n",
    "        return result\n",
    "    except Exception as e:\n",
    "        print(f\"Error: {e}\")\n",
    "        return None\n",
    "\n",
    "print(\"✅ Libraries imported and database connection established!\")"
   ]
  },
  {
   "cell_type": "markdown",
   "metadata": {},
   "source": [
    "## Sample Data Setup\n",
    "\n",
    "Let's create some sample data to work with:"
   ]
  },
  {
   "cell_type": "code",
   "execution_count": null,
   "metadata": {},
   "outputs": [],
   "source": [
    "# Create the sales table\n",
    "create_table_query = \"\"\"\n",
    "CREATE TABLE sales (\n",
    "    employee_id INTEGER,\n",
    "    employee_name TEXT,\n",
    "    department TEXT,\n",
    "    sale_date DATE,\n",
    "    sale_amount REAL\n",
    ");\n",
    "\"\"\"\n",
    "\n",
    "conn.execute(create_table_query)\n",
    "\n",
    "# Insert sample data\n",
    "insert_data_query = \"\"\"\n",
    "INSERT INTO sales VALUES\n",
    "(1, 'Alice Johnson', 'Sales', '2024-01-15', 1500.00),\n",
    "(2, 'Bob Smith', 'Sales', '2024-01-16', 2200.00),\n",
    "(3, 'Carol Davis', 'Marketing', '2024-01-17', 1800.00),\n",
    "(1, 'Alice Johnson', 'Sales', '2024-02-10', 1750.00),\n",
    "(4, 'David Wilson', 'Marketing', '2024-02-12', 2100.00),\n",
    "(2, 'Bob Smith', 'Sales', '2024-02-15', 1900.00),\n",
    "(5, 'Eva Brown', 'IT', '2024-03-01', 2500.00),\n",
    "(3, 'Carol Davis', 'Marketing', '2024-03-05', 1600.00),\n",
    "(1, 'Alice Johnson', 'Sales', '2024-03-10', 2000.00),\n",
    "(6, 'Frank Miller', 'IT', '2024-03-15', 2300.00);\n",
    "\"\"\"\n",
    "\n",
    "conn.execute(insert_data_query)\n",
    "conn.commit()\n",
    "\n",
    "# Display the data\n",
    "run_sql(\"SELECT * FROM sales ORDER BY sale_date\", \"Sample Sales Data\")"
   ]
  },
  {
   "cell_type": "markdown",
   "metadata": {},
   "source": [
    "## Types of Window Functions\n",
    "\n",
    "### 1. Ranking Functions\n",
    "\n",
    "These functions assign ranks to rows within a partition."
   ]
  },
  {
   "cell_type": "code",
   "execution_count": null,
   "metadata": {},
   "outputs": [],
   "source": [
    "# ROW_NUMBER(): Assigns unique sequential integers\n",
    "query = \"\"\"\n",
    "SELECT \n",
    "    employee_name,\n",
    "    department,\n",
    "    sale_amount,\n",
    "    ROW_NUMBER() OVER (ORDER BY sale_amount DESC) as row_num,\n",
    "    ROW_NUMBER() OVER (PARTITION BY department ORDER BY sale_amount DESC) as dept_row_num\n",
    "FROM sales\n",
    "ORDER BY sale_amount DESC\n",
    "\"\"\"\n",
    "\n",
    "run_sql(query, \"ROW_NUMBER() Example\")"
   ]
  },
  {
   "cell_type": "code",
   "execution_count": null,
   "metadata": {},
   "outputs": [],
   "source": [
    "# RANK(): Assigns ranks with gaps for ties\n",
    "query = \"\"\"\n",
    "SELECT \n",
    "    employee_name,\n",
    "    department,\n",
    "    sale_amount,\n",
    "    RANK() OVER (ORDER BY sale_amount DESC) as rank_with_gaps,\n",
    "    RANK() OVER (PARTITION BY department ORDER BY sale_amount DESC) as dept_rank\n",
    "FROM sales\n",
    "ORDER BY sale_amount DESC\n",
    "\"\"\"\n",
    "\n",
    "run_sql(query, \"RANK() Example\")"
   ]
  },
  {
   "cell_type": "code",
   "execution_count": null,
   "metadata": {},
   "outputs": [],
   "source": [
    "# DENSE_RANK(): Assigns ranks without gaps for ties\n",
    "query = \"\"\"\n",
    "SELECT \n",
    "    employee_name,\n",
    "    department,\n",
    "    sale_amount,\n",
    "    DENSE_RANK() OVER (ORDER BY sale_amount DESC) as dense_rank,\n",
    "    DENSE_RANK() OVER (PARTITION BY department ORDER BY sale_amount DESC) as dept_dense_rank\n",
    "FROM sales\n",
    "ORDER BY sale_amount DESC\n",
    "\"\"\"\n",
    "\n",
    "run_sql(query, \"DENSE_RANK() Example\")"
   ]
  },
  {
   "cell_type": "code",
   "execution_count": null,
   "metadata": {},
   "outputs": [],
   "source": [
    "# NTILE(): Divides rows into specified number of groups\n",
    "query = \"\"\"\n",
    "SELECT \n",
    "    employee_name,\n",
    "    sale_amount,\n",
    "    NTILE(3) OVER (ORDER BY sale_amount DESC) as quartile,\n",
    "    NTILE(4) OVER (ORDER BY sale_amount DESC) as quartile_4\n",
    "FROM sales\n",
    "ORDER BY sale_amount DESC\n",
    "\"\"\"\n",
    "\n",
    "run_sql(query, \"NTILE() Example\")"
   ]
  },
  {
   "cell_type": "markdown",
   "metadata": {},
   "source": [
    "### 2. Aggregate Window Functions\n",
    "\n",
    "These functions perform calculations across the window frame."
   ]
  },
  {
   "cell_type": "code",
   "execution_count": null,
   "metadata": {},
   "outputs": [],
   "source": [
    "# SUM() with different window frames\n",
    "query = \"\"\"\n",
    "SELECT \n",
    "    employee_name,\n",
    "    sale_date,\n",
    "    sale_amount,\n",
    "    SUM(sale_amount) OVER () as total_sales,\n",
    "    SUM(sale_amount) OVER (PARTITION BY department) as dept_total,\n",
    "    SUM(sale_amount) OVER (ORDER BY sale_date ROWS UNBOUNDED PRECEDING) as running_total\n",
    "FROM sales\n",
    "ORDER BY sale_date\n",
    "\"\"\"\n",
    "\n",
    "run_sql(query, \"SUM() Window Function Example\")"
   ]
  },
  {
   "cell_type": "code",
   "execution_count": null,
   "metadata": {},
   "outputs": [],
   "source": [
    "# AVG() and COUNT() window functions\n",
    "query = \"\"\"\n",
    "SELECT \n",
    "    employee_name,\n",
    "    department,\n",
    "    sale_amount,\n",
    "    AVG(sale_amount) OVER () as overall_avg,\n",
    "    AVG(sale_amount) OVER (PARTITION BY department) as dept_avg,\n",
    "    COUNT(*) OVER (PARTITION BY department) as dept_count,\n",
    "    sale_amount - AVG(sale_amount) OVER (PARTITION BY department) as diff_from_dept_avg\n",
    "FROM sales\n",
    "ORDER BY department, sale_amount DESC\n",
    "\"\"\"\n",
    "\n",
    "run_sql(query, \"AVG() and COUNT() Window Functions Example\")"
   ]
  },
  {
   "cell_type": "code",
   "execution_count": null,
   "metadata": {},
   "outputs": [],
   "source": [
    "# MIN() and MAX() window functions\n",
    "query = \"\"\"\n",
    "SELECT \n",
    "    employee_name,\n",
    "    department,\n",
    "    sale_amount,\n",
    "    MIN(sale_amount) OVER (PARTITION BY department) as dept_min,\n",
    "    MAX(sale_amount) OVER (PARTITION BY department) as dept_max,\n",
    "    MAX(sale_amount) OVER (ORDER BY sale_date ROWS BETWEEN 1 PRECEDING AND 1 FOLLOWING) as local_max\n",
    "FROM sales\n",
    "ORDER BY department, sale_amount\n",
    "\"\"\"\n",
    "\n",
    "run_sql(query, \"MIN() and MAX() Window Functions Example\")"
   ]
  },
  {
   "cell_type": "markdown",
   "metadata": {},
   "source": [
    "### 3. Value/Offset Functions\n",
    "\n",
    "These functions access data from other rows relative to the current row."
   ]
  },
  {
   "cell_type": "code",
   "execution_count": null,
   "metadata": {},
   "outputs": [],
   "source": [
    "# LAG() and LEAD() functions\n",
    "query = \"\"\"\n",
    "SELECT \n",
    "    employee_name,\n",
    "    sale_date,\n",
    "    sale_amount,\n",
    "    LAG(sale_amount, 1) OVER (PARTITION BY employee_name ORDER BY sale_date) as prev_sale,\n",
    "    LEAD(sale_amount, 1) OVER (PARTITION BY employee_name ORDER BY sale_date) as next_sale,\n",
    "    sale_amount - LAG(sale_amount, 1) OVER (PARTITION BY employee_name ORDER BY sale_date) as sale_change\n",
    "FROM sales\n",
    "WHERE employee_name IN ('Alice Johnson', 'Bob Smith', 'Carol Davis')\n",
    "ORDER BY employee_name, sale_date\n",
    "\"\"\"\n",
    "\n",
    "run_sql(query, \"LAG() and LEAD() Functions Example\")"
   ]
  },
  {
   "cell_type": "code",
   "execution_count": null,
   "metadata": {},
   "outputs": [],
   "source": [
    "# FIRST_VALUE() and LAST_VALUE() functions\n",
    "query = \"\"\"\n",
    "SELECT \n",
    "    employee_name,\n",
    "    department,\n",
    "    sale_date,\n",
    "    sale_amount,\n",
    "    FIRST_VALUE(sale_amount) OVER (PARTITION BY department ORDER BY sale_date) as first_dept_sale,\n",
    "    LAST_VALUE(sale_amount) OVER (\n",
    "        PARTITION BY department \n",
    "        ORDER BY sale_date \n",
    "        ROWS BETWEEN UNBOUNDED PRECEDING AND UNBOUNDED FOLLOWING\n",
    "    ) as last_dept_sale\n",
    "FROM sales\n",
    "ORDER BY department, sale_date\n",
    "\"\"\"\n",
    "\n",
    "run_sql(query, \"FIRST_VALUE() and LAST_VALUE() Functions Example\")"
   ]
  },
  {
   "cell_type": "code",
   "execution_count": null,
   "metadata": {},
   "outputs": [],
   "source": [
    "# NTH_VALUE() function\n",
    "query = \"\"\"\n",
    "SELECT \n",
    "    employee_name,\n",
    "    department,\n",
    "    sale_amount,\n",
    "    NTH_VALUE(sale_amount, 2) OVER (\n",
    "        PARTITION BY department \n",
    "        ORDER BY sale_amount DESC\n",
    "        ROWS BETWEEN UNBOUNDED PRECEDING AND UNBOUNDED FOLLOWING\n",
    "    ) as second_highest_in_dept\n",
    "FROM sales\n",
    "ORDER BY department, sale_amount DESC\n",
    "\"\"\"\n",
    "\n",
    "run_sql(query, \"NTH_VALUE() Function Example\")"
   ]
  },
  {
   "cell_type": "markdown",
   "metadata": {},
   "source": [
    "## Window Frame Specifications\n",
    "\n",
    "Window frames define which rows are included in the calculation for each row.\n",
    "\n",
    "### Frame Types:\n",
    "- `ROWS`: Physical number of rows\n",
    "- `RANGE`: Logical range based on values\n",
    "\n",
    "### Frame Boundaries:\n",
    "- `UNBOUNDED PRECEDING`: From the start of the partition\n",
    "- `UNBOUNDED FOLLOWING`: To the end of the partition\n",
    "- `CURRENT ROW`: The current row\n",
    "- `n PRECEDING`: n rows before the current row\n",
    "- `n FOLLOWING`: n rows after the current row"
   ]
  },
  {
   "cell_type": "code",
   "execution_count": null,
   "metadata": {},
   "outputs": [],
   "source": [
    "# Different frame specifications\n",
    "query = \"\"\"\n",
    "SELECT \n",
    "    employee_name,\n",
    "    sale_date,\n",
    "    sale_amount,\n",
    "    -- Running total from beginning\n",
    "    SUM(sale_amount) OVER (\n",
    "        ORDER BY sale_date \n",
    "        ROWS UNBOUNDED PRECEDING\n",
    "    ) as running_total,\n",
    "    -- Moving average of last 3 sales\n",
    "    AVG(sale_amount) OVER (\n",
    "        ORDER BY sale_date \n",
    "        ROWS BETWEEN 2 PRECEDING AND CURRENT ROW\n",
    "    ) as moving_avg_3,\n",
    "    -- Total of current and next 2 rows\n",
    "    SUM(sale_amount) OVER (\n",
    "        ORDER BY sale_date \n",
    "        ROWS BETWEEN CURRENT ROW AND 2 FOLLOWING\n",
    "    ) as forward_sum\n",
    "FROM sales\n",
    "ORDER BY sale_date\n",
    "\"\"\"\n",
    "\n",
    "run_sql(query, \"Window Frame Specifications Example\")"
   ]
  },
  {
   "cell_type": "markdown",
   "metadata": {},
   "source": [
    "## Advanced Examples\n",
    "\n",
    "### Finding Top N in Each Group"
   ]
  },
  {
   "cell_type": "code",
   "execution_count": null,
   "metadata": {},
   "outputs": [],
   "source": [
    "# Top 2 sales performers in each department\n",
    "query = \"\"\"\n",
    "WITH ranked_sales AS (\n",
    "    SELECT \n",
    "        employee_name,\n",
    "        department,\n",
    "        SUM(sale_amount) as total_sales,\n",
    "        RANK() OVER (PARTITION BY department ORDER BY SUM(sale_amount) DESC) as dept_rank\n",
    "    FROM sales\n",
    "    GROUP BY employee_name, department\n",
    ")\n",
    "SELECT *\n",
    "FROM ranked_sales\n",
    "WHERE dept_rank <= 2\n",
    "ORDER BY department, dept_rank\n",
    "\"\"\"\n",
    "\n",
    "run_sql(query, \"Top 2 Sales Performers in Each Department\")"
   ]
  },
  {
   "cell_type": "code",
   "execution_count": null,
   "metadata": {},
   "outputs": [],
   "source": [
    "# Percentage of total and cumulative percentage\n",
    "query = \"\"\"\n",
    "SELECT \n",
    "    employee_name,\n",
    "    department,\n",
    "    sale_amount,\n",
    "    ROUND(\n",
    "        100.0 * sale_amount / SUM(sale_amount) OVER (), \n",
    "        2\n",
    "    ) as pct_of_total,\n",
    "    ROUND(\n",
    "        100.0 * SUM(sale_amount) OVER (ORDER BY sale_amount DESC ROWS UNBOUNDED PRECEDING) / \n",
    "        SUM(sale_amount) OVER (), \n",
    "        2\n",
    "    ) as cumulative_pct\n",
    "FROM sales\n",
    "ORDER BY sale_amount DESC\n",
    "\"\"\"\n",
    "\n",
    "run_sql(query, \"Percentage of Total and Cumulative Percentage\")"
   ]
  },
  {
   "cell_type": "markdown",
   "metadata": {},
   "source": [
    "## Complete List of Window Functions\n",
    "\n",
    "### Ranking Functions:\n",
    "- `ROW_NUMBER()`: Unique sequential integers\n",
    "- `RANK()`: Ranking with gaps for ties\n",
    "- `DENSE_RANK()`: Ranking without gaps for ties\n",
    "- `NTILE(n)`: Divide rows into n groups\n",
    "\n",
    "### Aggregate Functions (can be used as window functions):\n",
    "- `SUM()`: Sum of values\n",
    "- `AVG()`: Average of values\n",
    "- `COUNT()`: Count of rows\n",
    "- `MIN()`: Minimum value\n",
    "- `MAX()`: Maximum value\n",
    "- `STDDEV()`: Standard deviation\n",
    "- `VARIANCE()`: Variance\n",
    "\n",
    "### Value/Offset Functions:\n",
    "- `LAG(expr, offset, default)`: Value from previous row\n",
    "- `LEAD(expr, offset, default)`: Value from next row\n",
    "- `FIRST_VALUE(expr)`: First value in window frame\n",
    "- `LAST_VALUE(expr)`: Last value in window frame\n",
    "- `NTH_VALUE(expr, n)`: nth value in window frame\n",
    "\n",
    "### Distribution Functions:\n",
    "- `PERCENT_RANK()`: Relative rank as percentage\n",
    "- `CUME_DIST()`: Cumulative distribution\n",
    "- `PERCENTILE_CONT(percentile)`: Continuous percentile\n",
    "- `PERCENTILE_DISC(percentile)`: Discrete percentile"
   ]
  },
  {
   "cell_type": "markdown",
   "metadata": {},
   "source": [
    "## Practice Quiz Questions\n",
    "\n",
    "Try to solve these problems using window functions. Solutions are provided below each question.\n",
    "\n",
    "### Question 1\n",
    "Write a query to find each employee's sales amount and what percentage it represents of their department's total sales."
   ]
  },
  {
   "cell_type": "code",
   "execution_count": null,
   "metadata": {},
   "outputs": [],
   "source": [
    "# Try your solution here first!\n",
    "# Uncomment and modify the query below:\n",
    "\n",
    "# query = \"\"\"\n",
    "# SELECT \n",
    "#     employee_name,\n",
    "#     department,\n",
    "#     sale_amount,\n",
    "#     -- Add your window function here to calculate percentage\n",
    "# FROM sales\n",
    "# ORDER BY department, sale_amount DESC\n",
    "# \"\"\"\n",
    "\n",
    "# run_sql(query, \"Question 1 - Your Solution\")"
   ]
  },
  {
   "cell_type": "code",
   "execution_count": null,
   "metadata": {},
   "outputs": [],
   "source": [
    "# SOLUTION - Run this cell to see the answer\n",
    "solution_q1 = \"\"\"\n",
    "SELECT \n",
    "    employee_name,\n",
    "    department,\n",
    "    sale_amount,\n",
    "    ROUND(\n",
    "        100.0 * sale_amount / SUM(sale_amount) OVER (PARTITION BY department), \n",
    "        2\n",
    "    ) as pct_of_dept_sales\n",
    "FROM sales\n",
    "ORDER BY department, sale_amount DESC\n",
    "\"\"\"\n",
    "\n",
    "run_sql(solution_q1, \"Question 1 Solution: Percentage of Department Sales\")"
   ]
  },
  {
   "cell_type": "markdown",
   "metadata": {},
   "source": [
    "<details>\n",
    "<summary>Click to see solution</summary>\n",
    "\n",
    "```sql\n",
    "SELECT \n",
    "    employee_name,\n",
    "    department,\n",
    "    sale_amount,\n",
    "    ROUND(\n",
    "        100.0 * sale_amount / SUM(sale_amount) OVER (PARTITION BY department), \n",
    "        2\n",
    "    ) as pct_of_dept_sales\n",
    "FROM sales\n",
    "ORDER BY department, sale_amount DESC;\n",
    "```\n",
    "</details>"
   ]
  },
  {
   "cell_type": "markdown",
   "metadata": {},
   "source": [
    "### Question 2\n",
    "For each sale, show the difference between the current sale amount and the previous sale amount for the same employee (ordered by date)."
   ]
  },
  {
   "cell_type": "code",
   "execution_count": null,
   "metadata": {},
   "outputs": [],
   "source": [
    "# Try your solution here first!\n",
    "# Uncomment and modify the query below:\n",
    "\n",
    "# query = \"\"\"\n",
    "# SELECT \n",
    "#     employee_name,\n",
    "#     sale_date,\n",
    "#     sale_amount,\n",
    "#     -- Add your LAG function here\n",
    "# FROM sales\n",
    "# ORDER BY employee_name, sale_date\n",
    "# \"\"\"\n",
    "\n",
    "# run_sql(query, \"Question 2 - Your Solution\")"
   ]
  },
  {
   "cell_type": "code",
   "execution_count": null,
   "metadata": {},
   "outputs": [],
   "source": [
    "# SOLUTION - Run this cell to see the answer\n",
    "solution_q2 = \"\"\"\n",
    "SELECT \n",
    "    employee_name,\n",
    "    sale_date,\n",
    "    sale_amount,\n",
    "    LAG(sale_amount) OVER (PARTITION BY employee_name ORDER BY sale_date) as previous_sale,\n",
    "    sale_amount - LAG(sale_amount) OVER (PARTITION BY employee_name ORDER BY sale_date) as sale_difference\n",
    "FROM sales\n",
    "ORDER BY employee_name, sale_date\n",
    "\"\"\"\n",
    "\n",
    "run_sql(solution_q2, \"Question 2 Solution: Sale Differences by Employee\")"
   ]
  },
  {
   "cell_type": "markdown",
   "metadata": {},
   "source": [
    "<details>\n",
    "<summary>Click to see solution</summary>\n",
    "\n",
    "```sql\n",
    "SELECT \n",
    "    employee_name,\n",
    "    sale_date,\n",
    "    sale_amount,\n",
    "    LAG(sale_amount) OVER (PARTITION BY employee_name ORDER BY sale_date) as prev_sale,\n",
    "    sale_amount - LAG(sale_amount) OVER (PARTITION BY employee_name ORDER BY sale_date) as sale_difference\n",
    "FROM sales\n",
    "ORDER BY employee_name, sale_date;\n",
    "```\n",
    "</details>"
   ]
  },
  {
   "cell_type": "markdown",
   "metadata": {},
   "source": [
    "### Question 3\n",
    "Rank employees by their total sales amount, and show only the top 3 performers overall."
   ]
  },
  {
   "cell_type": "code",
   "execution_count": null,
   "metadata": {},
   "outputs": [],
   "source": [
    "# Try your solution here first!\n",
    "# Uncomment and modify the query below:\n",
    "\n",
    "# query = \"\"\"\n",
    "# WITH employee_totals AS (\n",
    "#     SELECT \n",
    "#         employee_name,\n",
    "#         department,\n",
    "#         -- Add your aggregation and ranking here\n",
    "#     FROM sales\n",
    "#     GROUP BY employee_name, department\n",
    "# )\n",
    "# SELECT * FROM employee_totals\n",
    "# -- Add your WHERE clause here\n",
    "# \"\"\"\n",
    "\n",
    "# run_sql(query, \"Question 3 - Your Solution\")"
   ]
  },
  {
   "cell_type": "code",
   "execution_count": null,
   "metadata": {},
   "outputs": [],
   "source": [
    "# SOLUTION - Run this cell to see the answer\n",
    "solution_q3 = \"\"\"\n",
    "WITH employee_totals AS (\n",
    "    SELECT \n",
    "        employee_name,\n",
    "        department,\n",
    "        SUM(sale_amount) as total_sales,\n",
    "        RANK() OVER (ORDER BY SUM(sale_amount) DESC) as sales_rank\n",
    "    FROM sales\n",
    "    GROUP BY employee_name, department\n",
    ")\n",
    "SELECT *\n",
    "FROM employee_totals\n",
    "WHERE sales_rank <= 3\n",
    "ORDER BY sales_rank\n",
    "\"\"\"\n",
    "\n",
    "run_sql(solution_q3, \"Question 3 Solution: Top 3 Sales Performers\")"
   ]
  },
  {
   "cell_type": "markdown",
   "metadata": {},
   "source": [
    "### Question 4\n",
    "Calculate a running total of sales ordered by date, and show what percentage each running total represents of the final total."
   ]
  },
  {
   "cell_type": "code",
   "execution_count": null,
   "metadata": {},
   "outputs": [],
   "source": [
    "# Try your solution here first!\n",
    "# Uncomment and modify the query below:\n",
    "\n",
    "# query = \"\"\"\n",
    "# SELECT \n",
    "#     employee_name,\n",
    "#     sale_date,\n",
    "#     sale_amount,\n",
    "#     -- Add your running total calculation here\n",
    "#     -- Add your percentage calculation here\n",
    "# FROM sales\n",
    "# ORDER BY sale_date\n",
    "# \"\"\"\n",
    "\n",
    "# run_sql(query, \"Question 4 - Your Solution\")"
   ]
  },
  {
   "cell_type": "code",
   "execution_count": null,
   "metadata": {},
   "outputs": [],
   "source": [
    "# SOLUTION - Run this cell to see the answer\n",
    "solution_q4 = \"\"\"\n",
    "SELECT \n",
    "    employee_name,\n",
    "    sale_date,\n",
    "    sale_amount,\n",
    "    SUM(sale_amount) OVER (ORDER BY sale_date ROWS UNBOUNDED PRECEDING) as running_total,\n",
    "    ROUND(\n",
    "        100.0 * SUM(sale_amount) OVER (ORDER BY sale_date ROWS UNBOUNDED PRECEDING) / \n",
    "        SUM(sale_amount) OVER (), \n",
    "        2\n",
    "    ) as running_pct\n",
    "FROM sales\n",
    "ORDER BY sale_date\n",
    "\"\"\"\n",
    "\n",
    "run_sql(solution_q4, \"Question 4 Solution: Running Total and Percentage\")"
   ]
  },
  {
   "cell_type": "markdown",
   "metadata": {},
   "source": [
    "### Question 5\n",
    "For each department, find the employee with the highest single sale and show how much higher it is than the department average."
   ]
  },
  {
   "cell_type": "code",
   "execution_count": null,
   "metadata": {},
   "outputs": [],
   "source": [
    "# Try your solution here first!\n",
    "# Uncomment and modify the query below:\n",
    "\n",
    "# query = \"\"\"\n",
    "# WITH dept_stats AS (\n",
    "#     SELECT \n",
    "#         employee_name,\n",
    "#         department,\n",
    "#         sale_amount,\n",
    "#         -- Add your window functions here\n",
    "#     FROM sales\n",
    "# )\n",
    "# SELECT \n",
    "#     department,\n",
    "#     employee_name,\n",
    "#     -- Add your calculations here\n",
    "# FROM dept_stats\n",
    "# -- Add your WHERE clause here\n",
    "# \"\"\"\n",
    "\n",
    "# run_sql(query, \"Question 5 - Your Solution\")"
   ]
  },
  {
   "cell_type": "code",
   "execution_count": null,
   "metadata": {},
   "outputs": [],
   "source": [
    "# SOLUTION - Run this cell to see the answer\n",
    "solution_q5 = \"\"\"\n",
    "WITH dept_stats AS (\n",
    "    SELECT \n",
    "        employee_name,\n",
    "        department,\n",
    "        sale_amount,\n",
    "        AVG(sale_amount) OVER (PARTITION BY department) as dept_avg,\n",
    "        RANK() OVER (PARTITION BY department ORDER BY sale_amount DESC) as dept_rank\n",
    "    FROM sales\n",
    ")\n",
    "SELECT \n",
    "    department,\n",
    "    employee_name,\n",
    "    sale_amount as highest_sale,\n",
    "    ROUND(dept_avg, 2) as dept_average,\n",
    "    ROUND(sale_amount - dept_avg, 2) as above_average\n",
    "FROM dept_stats\n",
    "WHERE dept_rank = 1\n",
    "ORDER BY department\n",
    "\"\"\"\n",
    "\n",
    "run_sql(solution_q5, \"Question 5 Solution: Highest Sale vs Department Average\")"
   ]
  },
  {
   "cell_type": "markdown",
   "metadata": {},
   "source": [
    "### Question 6 (Advanced)\n",
    "Create a query that shows each sale along with the 3-period moving average (current sale plus the 2 previous sales by date) for each employee."
   ]
  },
  {
   "cell_type": "code",
   "execution_count": null,
   "metadata": {},
   "outputs": [],
   "source": [
    "# Try your solution here first!\n",
    "# Uncomment and modify the query below:\n",
    "\n",
    "# query = \"\"\"\n",
    "# SELECT \n",
    "#     employee_name,\n",
    "#     sale_date,\n",
    "#     sale_amount,\n",
    "#     -- Add your moving average calculation here\n",
    "# FROM sales\n",
    "# ORDER BY employee_name, sale_date\n",
    "# \"\"\"\n",
    "\n",
    "# run_sql(query, \"Question 6 - Your Solution\")"
   ]
  },
  {
   "cell_type": "code",
   "execution_count": null,
   "metadata": {},
   "outputs": [],
   "source": [
    "# SOLUTION - Run this cell to see the answer\n",
    "solution_q6 = \"\"\"\n",
    "SELECT \n",
    "    employee_name,\n",
    "    sale_date,\n",
    "    sale_amount,\n",
    "    ROUND(\n",
    "        AVG(sale_amount) OVER (\n",
    "            PARTITION BY employee_name \n",
    "            ORDER BY sale_date \n",
    "            ROWS BETWEEN 2 PRECEDING AND CURRENT ROW\n",
    "        ), 2\n",
    "    ) as moving_avg_3,\n",
    "    COUNT(*) OVER (\n",
    "        PARTITION BY employee_name \n",
    "        ORDER BY sale_date \n",
    "        ROWS BETWEEN 2 PRECEDING AND CURRENT ROW\n",
    "    ) as periods_in_avg\n",
    "FROM sales\n",
    "ORDER BY employee_name, sale_date\n",
    "\"\"\"\n",
    "\n",
    "run_sql(solution_q6, \"Question 6 Solution: 3-Period Moving Average by Employee\")"
   ]
  },
  {
   "cell_type": "markdown",
   "metadata": {},
   "source": [
    "## Key Takeaways\n",
    "\n",
    "1. **Window functions don't reduce the number of rows** - unlike GROUP BY aggregates\n",
    "2. **PARTITION BY** divides the result set into groups for the window function\n",
    "3. **ORDER BY** within OVER determines the order for ranking and frame calculations\n",
    "4. **Frame specifications** (ROWS/RANGE) control which rows are included in calculations\n",
    "5. **Ranking functions** handle ties differently (ROW_NUMBER vs RANK vs DENSE_RANK)\n",
    "6. **LAG/LEAD** are perfect for comparing current row with previous/next rows\n",
    "7. **Window functions can be combined** with CTEs for complex analytical queries\n",
    "\n",
    "Window functions are essential for analytical SQL and are supported by most modern databases including PostgreSQL, SQL Server, Oracle, MySQL 8.0+, and SQLite 3.25+.\n",
    "\n",
    "### Running This Notebook\n",
    "\n",
    "To run this notebook:\n",
    "1. Install dependencies: `pip install -r requirements.txt`\n",
    "2. Start Jupyter: `jupyter notebook`\n",
    "3. Run all cells in order\n",
    "\n",
    "The notebook uses an in-memory SQLite database, so all data is temporary and will be lost when you close the notebook."
   ]
  },
  {
   "cell_type": "code",
   "execution_count": null,
   "metadata": {},
   "outputs": [],
   "source": [
    "# Clean up: Close the database connection\n",
    "conn.close()\n",
    "print(\"✅ Database connection closed. Notebook session complete!\")"
   ]
  }
 ],
 "metadata": {
  "kernelspec": {
   "display_name": "Python 3 (ipykernel)",
   "language": "python",
   "name": "python3"
  },
  "language_info": {
   "codemirror_mode": {
    "name": "ipython",
    "version": 3
   },
   "file_extension": ".py",
   "mimetype": "text/x-python",
   "name": "python",
   "nbconvert_exporter": "python",
   "pygments_lexer": "ipython3",
   "version": "3.13.5"
  }
 },
 "nbformat": 4,
 "nbformat_minor": 4
}
